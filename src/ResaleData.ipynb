{
 "cells": [
  {
   "cell_type": "markdown",
   "id": "63e7033c",
   "metadata": {},
   "source": [
    "# HDB Resale Price Preprocessing"
   ]
  },
  {
   "cell_type": "markdown",
   "id": "bb5d1ead",
   "metadata": {},
   "source": [
    "## 1. Import dataset"
   ]
  },
  {
   "cell_type": "code",
   "execution_count": 26,
   "id": "52db81d2",
   "metadata": {},
   "outputs": [
    {
     "name": "stdout",
     "output_type": "stream",
     "text": [
      "Dataset Size:  204116\n",
      "->Examples:\n",
      "     month flat_type block        street_name storey_range  floor_area_sqm  \\\n",
      "0  2017-01    2 ROOM   406  ANG MO KIO AVE 10     10 TO 12            44.0   \n",
      "1  2017-01    3 ROOM   108   ANG MO KIO AVE 4     01 TO 03            67.0   \n",
      "2  2017-01    3 ROOM   602   ANG MO KIO AVE 5     01 TO 03            67.0   \n",
      "3  2017-01    3 ROOM   465  ANG MO KIO AVE 10     04 TO 06            68.0   \n",
      "4  2017-01    3 ROOM   601   ANG MO KIO AVE 5     01 TO 03            67.0   \n",
      "\n",
      "       flat_model     remaining_lease  resale_price  \n",
      "0        Improved  61 years 04 months      232000.0  \n",
      "1  New Generation  60 years 07 months      250000.0  \n",
      "2  New Generation  62 years 05 months      262000.0  \n",
      "3  New Generation   62 years 01 month      265000.0  \n",
      "4  New Generation  62 years 05 months      265000.0  \n"
     ]
    }
   ],
   "source": [
    "import pandas as pd\n",
    "\n",
    "# Load from local CSV file instead of API\n",
    "file_path = \"../data/raw/RawResalePrice.csv\"\n",
    "df = pd.read_csv(file_path)\n",
    "\n",
    "\n",
    "# Select relevant columns and remove the others\n",
    "columns_to_keep = [\n",
    "    #\"_id\",\n",
    "    \"month\",\n",
    "    #\"town\",\n",
    "    \"flat_type\",\n",
    "    \"block\",\n",
    "    \"street_name\",\n",
    "    \"storey_range\",\n",
    "    \"floor_area_sqm\",\n",
    "    \"flat_model\",\n",
    "    #\"lease_commence_date\",\n",
    "    \"remaining_lease\",\n",
    "    \"resale_price\"\n",
    "]\n",
    "df = df[columns_to_keep]\n",
    "\n",
    "# Show cleaned DataFrame\n",
    "print(\"Dataset Size: \", len(df))\n",
    "print(\"->Examples:\")\n",
    "print(df.head())\n",
    "\n",
    "\n",
    "\n",
    "\n"
   ]
  },
  {
   "cell_type": "markdown",
   "id": "b12df765",
   "metadata": {},
   "source": [
    "## 2. Cleaning Storey range and Remaining Lease\n"
   ]
  },
  {
   "cell_type": "code",
   "execution_count": 27,
   "id": "45375628",
   "metadata": {},
   "outputs": [
    {
     "name": "stdout",
     "output_type": "stream",
     "text": [
      "     month flat_type block        street_name  floor_area_sqm      flat_model  \\\n",
      "0  2017-01    2 ROOM   406  ANG MO KIO AVE 10            44.0        Improved   \n",
      "1  2017-01    3 ROOM   108   ANG MO KIO AVE 4            67.0  New Generation   \n",
      "2  2017-01    3 ROOM   602   ANG MO KIO AVE 5            67.0  New Generation   \n",
      "3  2017-01    3 ROOM   465  ANG MO KIO AVE 10            68.0  New Generation   \n",
      "4  2017-01    3 ROOM   601   ANG MO KIO AVE 5            67.0  New Generation   \n",
      "\n",
      "   resale_price  storey_avg  remaining_lease_months  \n",
      "0      232000.0          11                     736  \n",
      "1      250000.0           2                     727  \n",
      "2      262000.0           2                     749  \n",
      "3      265000.0           5                     745  \n",
      "4      265000.0           2                     749  \n"
     ]
    }
   ],
   "source": [
    "# Convert Storey range to average storey\n",
    "def storey_to_avg(storey_range):\n",
    "    try:\n",
    "        low, high = map(int, storey_range.split(\" TO \"))\n",
    "        return (low + high) // 2\n",
    "    except:\n",
    "        return None  \n",
    "\n",
    "# Convert Remaining lease to months\n",
    "def parse_remaining_lease(lease_str):\n",
    "    try:\n",
    "        parts = lease_str.split()\n",
    "        years = int(parts[0])\n",
    "        months = int(parts[2]) if \"month\" in lease_str else 0\n",
    "        return years * 12 + months\n",
    "    except:\n",
    "        return None\n",
    "    \n",
    "# Apply changes to the DF\n",
    "df[\"storey_avg\"] = df[\"storey_range\"].apply(storey_to_avg)\n",
    "df[\"remaining_lease_months\"] = df[\"remaining_lease\"].apply(parse_remaining_lease)\n",
    "\n",
    "# Drop original columns\n",
    "df = df.drop(columns=[\"remaining_lease\", \"storey_range\"])\n",
    "\n",
    "# Check result\n",
    "print(df.head())"
   ]
  },
  {
   "cell_type": "markdown",
   "id": "79a63a5f",
   "metadata": {},
   "source": [
    "## 3. Cleaning Address\n"
   ]
  },
  {
   "cell_type": "code",
   "execution_count": 28,
   "id": "b55defd7",
   "metadata": {},
   "outputs": [
    {
     "name": "stdout",
     "output_type": "stream",
     "text": [
      "     month flat_type  floor_area_sqm      flat_model  resale_price  \\\n",
      "0  2017-01    2 ROOM            44.0        Improved      232000.0   \n",
      "1  2017-01    3 ROOM            67.0  New Generation      250000.0   \n",
      "2  2017-01    3 ROOM            67.0  New Generation      262000.0   \n",
      "3  2017-01    3 ROOM            68.0  New Generation      265000.0   \n",
      "4  2017-01    3 ROOM            67.0  New Generation      265000.0   \n",
      "\n",
      "   storey_avg  remaining_lease_months                address  \n",
      "0          11                     736  406 ANG MO KIO AVE 10  \n",
      "1           2                     727   108 ANG MO KIO AVE 4  \n",
      "2           2                     749   602 ANG MO KIO AVE 5  \n",
      "3           5                     745  465 ANG MO KIO AVE 10  \n",
      "4           2                     749   601 ANG MO KIO AVE 5  \n"
     ]
    }
   ],
   "source": [
    "# Combine block and street_name into one address string\n",
    "df[\"address\"] = df[\"block\"].astype(str) + \" \" + df[\"street_name\"]\n",
    "\n",
    "# Drop the original columns\n",
    "df = df.drop(columns=[\"block\", \"street_name\"])\n",
    "\n",
    "# Preview the new address column\n",
    "print(df.head())\n"
   ]
  },
  {
   "cell_type": "markdown",
   "id": "54bc11ec",
   "metadata": {},
   "source": [
    "## 4. Convert time"
   ]
  },
  {
   "cell_type": "code",
   "execution_count": 29,
   "id": "63103704",
   "metadata": {},
   "outputs": [
    {
     "name": "stdout",
     "output_type": "stream",
     "text": [
      "            month  flat_type  floor_area_sqm         flat_model  resale_price  \\\n",
      "152497 2023-06-01     5 ROOM           128.0           Improved      780000.0   \n",
      "158413 2023-09-01     4 ROOM            94.0  Premium Apartment      680000.0   \n",
      "111047 2021-10-01  EXECUTIVE           142.0         Maisonette      708000.0   \n",
      "41858  2018-12-01     3 ROOM            67.0            Model A      318000.0   \n",
      "190176 2024-08-01     4 ROOM           103.0            Model A      578000.0   \n",
      "10293  2017-07-01     5 ROOM           119.0           Improved      545000.0   \n",
      "61477  2019-11-01     4 ROOM            91.0            Model A      380000.0   \n",
      "151178 2023-11-01     5 ROOM           119.0           Improved      620000.0   \n",
      "125628 2022-03-01     5 ROOM           122.0           Improved      575000.0   \n",
      "25721  2018-04-01     4 ROOM            93.0            Model A      390000.0   \n",
      "\n",
      "        storey_avg  remaining_lease_months                  address  time  \n",
      "152497           8                     820        467 HOUGANG AVE 8    77  \n",
      "158413          17                    1031        303B PUNGGOL CTRL    80  \n",
      "111047           5                     918       102 RIVERVALE WALK    57  \n",
      "41858            5                    1127     571C WOODLANDS AVE 1    23  \n",
      "190176           2                     808  531 SERANGOON NTH AVE 4    91  \n",
      "10293            8                     736   605 CLEMENTI WEST ST 1     6  \n",
      "61477            8                     988     126A EDGEDALE PLAINS    34  \n",
      "151178           5                     661   606 CLEMENTI WEST ST 1    82  \n",
      "125628           8                     766        630 HOUGANG AVE 8    62  \n",
      "25721            2                    1124          613C PUNGGOL DR    15  \n"
     ]
    }
   ],
   "source": [
    "\n",
    "# Define start date\n",
    "start_date = pd.to_datetime(\"2017-01\")\n",
    "\n",
    "# Convert month to datetime\n",
    "df[\"month\"] = pd.to_datetime(df[\"month\"])\n",
    "\n",
    "# Calculate time difference in months\n",
    "df[\"time\"] = ((df[\"month\"].dt.year - start_date.year) * 12 +\n",
    "              (df[\"month\"].dt.month - start_date.month))\n",
    "\n",
    "# Check result\n",
    "print(df.sample(10))\n"
   ]
  },
  {
   "cell_type": "code",
   "execution_count": 30,
   "id": "18a1b906",
   "metadata": {},
   "outputs": [],
   "source": [
    "# Great! Months is not needed\n",
    "df = df.drop(columns=[\"month\"])"
   ]
  },
  {
   "cell_type": "markdown",
   "id": "6cc1d67f",
   "metadata": {},
   "source": [
    "## 5. A few more for Flat type"
   ]
  },
  {
   "cell_type": "code",
   "execution_count": 31,
   "id": "500abeb7",
   "metadata": {},
   "outputs": [
    {
     "name": "stdout",
     "output_type": "stream",
     "text": [
      "   floor_area_sqm      flat_model  resale_price  storey_avg  \\\n",
      "0            44.0        Improved      232000.0          11   \n",
      "1            67.0  New Generation      250000.0           2   \n",
      "2            67.0  New Generation      262000.0           2   \n",
      "3            68.0  New Generation      265000.0           5   \n",
      "4            67.0  New Generation      265000.0           2   \n",
      "\n",
      "   remaining_lease_months                address  time  flat_type_encoded  \n",
      "0                     736  406 ANG MO KIO AVE 10     0                  2  \n",
      "1                     727   108 ANG MO KIO AVE 4     0                  3  \n",
      "2                     749   602 ANG MO KIO AVE 5     0                  3  \n",
      "3                     745  465 ANG MO KIO AVE 10     0                  3  \n",
      "4                     749   601 ANG MO KIO AVE 5     0                  3  \n"
     ]
    }
   ],
   "source": [
    "flat_type_order = {\n",
    "    \"1 ROOM\": 1,\n",
    "    \"2 ROOM\": 2,\n",
    "    \"3 ROOM\": 3,\n",
    "    \"4 ROOM\": 4,\n",
    "    \"5 ROOM\": 5,\n",
    "    \"EXECUTIVE\": 6,\n",
    "    \"MULTI-GENERATION\": 7\n",
    "}\n",
    "\n",
    "df[\"flat_type_encoded\"] = df[\"flat_type\"].map(flat_type_order)\n",
    "\n",
    "df = df.drop(columns=[\"flat_type\"])\n",
    "\n",
    "print(df.head())"
   ]
  },
  {
   "cell_type": "markdown",
   "id": "f19271b8",
   "metadata": {},
   "source": [
    "## 6. Reorder the columns and output"
   ]
  },
  {
   "cell_type": "code",
   "execution_count": 32,
   "id": "5bcaa444",
   "metadata": {},
   "outputs": [
    {
     "name": "stdout",
     "output_type": "stream",
     "text": [
      "   time                address  storey_avg  floor_area_sqm  flat_type_encoded  \\\n",
      "0     0  406 ANG MO KIO AVE 10          11            44.0                  2   \n",
      "1     0   108 ANG MO KIO AVE 4           2            67.0                  3   \n",
      "2     0   602 ANG MO KIO AVE 5           2            67.0                  3   \n",
      "3     0  465 ANG MO KIO AVE 10           5            68.0                  3   \n",
      "4     0   601 ANG MO KIO AVE 5           2            67.0                  3   \n",
      "\n",
      "       flat_model  remaining_lease_months  resale_price  \n",
      "0        Improved                     736      232000.0  \n",
      "1  New Generation                     727      250000.0  \n",
      "2  New Generation                     749      262000.0  \n",
      "3  New Generation                     745      265000.0  \n",
      "4  New Generation                     749      265000.0  \n",
      "--------------------\n",
      "Saved cleaned data to: ../data/processed/cleaned_resale_data.csv\n"
     ]
    }
   ],
   "source": [
    "# Reorder columns to look better :D\n",
    "df = df[[\n",
    "    \"time\",\n",
    "    \"address\",\n",
    "    \"storey_avg\",\n",
    "    \"floor_area_sqm\",\n",
    "    \"flat_type_encoded\",\n",
    "    \"flat_model\",\n",
    "    \"remaining_lease_months\",\n",
    "    \"resale_price\"\n",
    "]]\n",
    "\n",
    "# Preview result\n",
    "print(df.head())\n",
    "\n",
    "# Save to CSV\n",
    "output_path = \"../data/processed/cleaned_resale_data.csv\"\n",
    "df.to_csv(output_path, index=False)\n",
    "\n",
    "print(\"-\" * 20)\n",
    "print(f\"Saved cleaned data to: {output_path}\")"
   ]
  },
  {
   "cell_type": "markdown",
   "id": "fe40ebf1",
   "metadata": {},
   "source": [
    "## 7. Dividing into test & train set"
   ]
  },
  {
   "cell_type": "code",
   "execution_count": 33,
   "id": "3e6df469",
   "metadata": {},
   "outputs": [
    {
     "name": "stdout",
     "output_type": "stream",
     "text": [
      "Train set size: 163292\n",
      "Test set size: 40824\n",
      "Train and test sets saved to ../datamodel/\n"
     ]
    }
   ],
   "source": [
    "from sklearn.model_selection import train_test_split\n",
    "\n",
    "# 80% train, 20% test\n",
    "train_df, test_df = train_test_split(df, test_size=0.2, random_state=42)\n",
    "\n",
    "print(f\"Train set size: {len(train_df)}\")\n",
    "print(f\"Test set size: {len(test_df)}\")\n",
    "\n",
    "# Save train and test sets to model folder\n",
    "train_df.to_csv(\"../data/model/train.csv\", index=False)\n",
    "test_df.to_csv(\"../data/model/test.csv\", index=False)\n",
    "\n",
    "print(\"Train and test sets saved to ../datamodel/\")\n",
    "\n"
   ]
  }
 ],
 "metadata": {
  "kernelspec": {
   "display_name": "ML",
   "language": "python",
   "name": "python3"
  },
  "language_info": {
   "codemirror_mode": {
    "name": "ipython",
    "version": 3
   },
   "file_extension": ".py",
   "mimetype": "text/x-python",
   "name": "python",
   "nbconvert_exporter": "python",
   "pygments_lexer": "ipython3",
   "version": "3.12.3"
  }
 },
 "nbformat": 4,
 "nbformat_minor": 5
}
