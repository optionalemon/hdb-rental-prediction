{
 "cells": [
  {
   "cell_type": "markdown",
   "id": "63e7033c",
   "metadata": {},
   "source": [
    "# HDB Resale Price Preprocessing"
   ]
  },
  {
   "cell_type": "markdown",
   "id": "bb5d1ead",
   "metadata": {},
   "source": [
    "## 1. Import dataset"
   ]
  },
  {
   "cell_type": "code",
   "execution_count": 63,
   "id": "52db81d2",
   "metadata": {},
   "outputs": [
    {
     "name": "stdout",
     "output_type": "stream",
     "text": [
      "Dataset Size:  204116\n",
      "->Examples:\n",
      "     month flat_type block        street_name storey_range  floor_area_sqm  \\\n",
      "0  2017-01    2 ROOM   406  ANG MO KIO AVE 10     10 TO 12            44.0   \n",
      "1  2017-01    3 ROOM   108   ANG MO KIO AVE 4     01 TO 03            67.0   \n",
      "2  2017-01    3 ROOM   602   ANG MO KIO AVE 5     01 TO 03            67.0   \n",
      "3  2017-01    3 ROOM   465  ANG MO KIO AVE 10     04 TO 06            68.0   \n",
      "4  2017-01    3 ROOM   601   ANG MO KIO AVE 5     01 TO 03            67.0   \n",
      "\n",
      "       flat_model     remaining_lease  resale_price  \n",
      "0        Improved  61 years 04 months      232000.0  \n",
      "1  New Generation  60 years 07 months      250000.0  \n",
      "2  New Generation  62 years 05 months      262000.0  \n",
      "3  New Generation   62 years 01 month      265000.0  \n",
      "4  New Generation  62 years 05 months      265000.0  \n"
     ]
    }
   ],
   "source": [
    "import pandas as pd\n",
    "\n",
    "# Load from local CSV file instead of API\n",
    "file_path = \"../data/raw/RawResalePrice.csv\"\n",
    "df = pd.read_csv(file_path)\n",
    "\n",
    "\n",
    "# Select relevant columns and remove the others\n",
    "columns_to_keep = [\n",
    "    #\"_id\",\n",
    "    \"month\",\n",
    "    #\"town\",\n",
    "    \"flat_type\",\n",
    "    \"block\",\n",
    "    \"street_name\",\n",
    "    \"storey_range\",\n",
    "    \"floor_area_sqm\",\n",
    "    \"flat_model\",\n",
    "    #\"lease_commence_date\",\n",
    "    \"remaining_lease\",\n",
    "    \"resale_price\"\n",
    "]\n",
    "df = df[columns_to_keep]\n",
    "\n",
    "# Show cleaned DataFrame\n",
    "print(\"Dataset Size: \", len(df))\n",
    "print(\"->Examples:\")\n",
    "print(df.head())\n",
    "\n",
    "\n",
    "\n",
    "\n"
   ]
  },
  {
   "cell_type": "markdown",
   "id": "b12df765",
   "metadata": {},
   "source": [
    "## 2. Cleaning Storey range and Remaining Lease\n"
   ]
  },
  {
   "cell_type": "code",
   "execution_count": 64,
   "id": "45375628",
   "metadata": {},
   "outputs": [
    {
     "name": "stdout",
     "output_type": "stream",
     "text": [
      "     month flat_type block        street_name  floor_area_sqm      flat_model  \\\n",
      "0  2017-01    2 ROOM   406  ANG MO KIO AVE 10            44.0        Improved   \n",
      "1  2017-01    3 ROOM   108   ANG MO KIO AVE 4            67.0  New Generation   \n",
      "2  2017-01    3 ROOM   602   ANG MO KIO AVE 5            67.0  New Generation   \n",
      "3  2017-01    3 ROOM   465  ANG MO KIO AVE 10            68.0  New Generation   \n",
      "4  2017-01    3 ROOM   601   ANG MO KIO AVE 5            67.0  New Generation   \n",
      "\n",
      "   resale_price  storey_avg  remaining_lease_months  \n",
      "0      232000.0          11                     736  \n",
      "1      250000.0           2                     727  \n",
      "2      262000.0           2                     749  \n",
      "3      265000.0           5                     745  \n",
      "4      265000.0           2                     749  \n"
     ]
    }
   ],
   "source": [
    "# Convert Storey range to average storey\n",
    "def storey_to_avg(storey_range):\n",
    "    try:\n",
    "        low, high = map(int, storey_range.split(\" TO \"))\n",
    "        return (low + high) // 2\n",
    "    except:\n",
    "        return None  \n",
    "\n",
    "# Convert Remaining lease to months\n",
    "def parse_remaining_lease(lease_str):\n",
    "    try:\n",
    "        parts = lease_str.split()\n",
    "        years = int(parts[0])\n",
    "        months = int(parts[2]) if \"month\" in lease_str else 0\n",
    "        return years * 12 + months\n",
    "    except:\n",
    "        return None\n",
    "    \n",
    "# Apply changes to the DF\n",
    "df[\"storey_avg\"] = df[\"storey_range\"].apply(storey_to_avg)\n",
    "df[\"remaining_lease_months\"] = df[\"remaining_lease\"].apply(parse_remaining_lease)\n",
    "\n",
    "# Drop original columns\n",
    "df = df.drop(columns=[\"remaining_lease\", \"storey_range\"])\n",
    "\n",
    "# Check result\n",
    "print(df.head())"
   ]
  },
  {
   "cell_type": "markdown",
   "id": "79a63a5f",
   "metadata": {},
   "source": [
    "## 3. Cleaning Address\n"
   ]
  },
  {
   "cell_type": "code",
   "execution_count": 65,
   "id": "b55defd7",
   "metadata": {},
   "outputs": [
    {
     "name": "stdout",
     "output_type": "stream",
     "text": [
      "     month flat_type  floor_area_sqm      flat_model  resale_price  \\\n",
      "0  2017-01    2 ROOM            44.0        Improved      232000.0   \n",
      "1  2017-01    3 ROOM            67.0  New Generation      250000.0   \n",
      "2  2017-01    3 ROOM            67.0  New Generation      262000.0   \n",
      "3  2017-01    3 ROOM            68.0  New Generation      265000.0   \n",
      "4  2017-01    3 ROOM            67.0  New Generation      265000.0   \n",
      "\n",
      "   storey_avg  remaining_lease_months                address  \n",
      "0          11                     736  406 ANG MO KIO AVE 10  \n",
      "1           2                     727   108 ANG MO KIO AVE 4  \n",
      "2           2                     749   602 ANG MO KIO AVE 5  \n",
      "3           5                     745  465 ANG MO KIO AVE 10  \n",
      "4           2                     749   601 ANG MO KIO AVE 5  \n"
     ]
    }
   ],
   "source": [
    "# Combine block and street_name into one address string\n",
    "df[\"address\"] = df[\"block\"].astype(str) + \" \" + df[\"street_name\"]\n",
    "\n",
    "# Drop the original columns\n",
    "df = df.drop(columns=[\"block\", \"street_name\"])\n",
    "\n",
    "# Preview the new address column\n",
    "print(df.head())\n"
   ]
  },
  {
   "cell_type": "markdown",
   "id": "54bc11ec",
   "metadata": {},
   "source": [
    "## 4. Convert time"
   ]
  },
  {
   "cell_type": "code",
   "execution_count": 66,
   "id": "63103704",
   "metadata": {},
   "outputs": [
    {
     "name": "stdout",
     "output_type": "stream",
     "text": [
      "            month  flat_type  floor_area_sqm         flat_model  resale_price  \\\n",
      "21231  2018-01-01     4 ROOM            90.0            Model A      348000.0   \n",
      "45907  2019-03-01     4 ROOM            96.0  Premium Apartment      495000.0   \n",
      "74692  2020-07-01     4 ROOM            92.0            Model A      410000.0   \n",
      "171399 2024-05-01     5 ROOM           133.0            Model A      670000.0   \n",
      "54875  2019-08-01     4 ROOM            91.0            Model A      690000.0   \n",
      "94130  2021-03-01  EXECUTIVE           146.0         Maisonette      950000.0   \n",
      "162440 2023-12-01     5 ROOM           111.0  Premium Apartment      615000.0   \n",
      "117823 2022-01-01  EXECUTIVE           148.0         Maisonette      950000.0   \n",
      "50377  2019-05-01     5 ROOM           121.0  Premium Apartment      423000.0   \n",
      "123958 2022-12-01     4 ROOM            93.0            Model A      510000.0   \n",
      "\n",
      "        storey_avg  remaining_lease_months                 address  time  \n",
      "21231            2                     985     204B COMPASSVALE DR    12  \n",
      "45907            8                    1116         289D PUNGGOL PL    26  \n",
      "74692            8                    1129      440C FERNVALE LINK    42  \n",
      "171399           8                     702         62 CHAI CHEE RD    88  \n",
      "54875           20                    1113          52 HAVELOCK RD    31  \n",
      "94130            5                     807      418 SERANGOON CTRL    50  \n",
      "162440           8                     953      403A FERNVALE LANE    83  \n",
      "117823          11                     733  716 BEDOK RESERVOIR RD    60  \n",
      "50377            8                     957    683B WOODLANDS DR 62    28  \n",
      "123958           5                    1122       803A KEAT HONG CL    71  \n"
     ]
    }
   ],
   "source": [
    "\n",
    "# Define start date\n",
    "start_date = pd.to_datetime(\"2017-01\")\n",
    "\n",
    "# Convert month to datetime\n",
    "df[\"month\"] = pd.to_datetime(df[\"month\"])\n",
    "\n",
    "# Calculate time difference in months\n",
    "df[\"time\"] = ((df[\"month\"].dt.year - start_date.year) * 12 +\n",
    "              (df[\"month\"].dt.month - start_date.month))\n",
    "\n",
    "# Check result\n",
    "print(df.sample(10))\n"
   ]
  },
  {
   "cell_type": "code",
   "execution_count": 67,
   "id": "18a1b906",
   "metadata": {},
   "outputs": [],
   "source": [
    "# Great! Months is not needed\n",
    "df = df.drop(columns=[\"month\"])"
   ]
  },
  {
   "cell_type": "markdown",
   "id": "6cc1d67f",
   "metadata": {},
   "source": [
    "## 5. A few more for Flat type"
   ]
  },
  {
   "cell_type": "code",
   "execution_count": 68,
   "id": "500abeb7",
   "metadata": {},
   "outputs": [
    {
     "name": "stdout",
     "output_type": "stream",
     "text": [
      "   floor_area_sqm      flat_model  resale_price  storey_avg  \\\n",
      "0            44.0        Improved      232000.0          11   \n",
      "1            67.0  New Generation      250000.0           2   \n",
      "2            67.0  New Generation      262000.0           2   \n",
      "3            68.0  New Generation      265000.0           5   \n",
      "4            67.0  New Generation      265000.0           2   \n",
      "\n",
      "   remaining_lease_months                address  time  flat_type_encoded  \n",
      "0                     736  406 ANG MO KIO AVE 10     0                  2  \n",
      "1                     727   108 ANG MO KIO AVE 4     0                  3  \n",
      "2                     749   602 ANG MO KIO AVE 5     0                  3  \n",
      "3                     745  465 ANG MO KIO AVE 10     0                  3  \n",
      "4                     749   601 ANG MO KIO AVE 5     0                  3  \n"
     ]
    }
   ],
   "source": [
    "flat_type_order = {\n",
    "    \"1 ROOM\": 1,\n",
    "    \"2 ROOM\": 2,\n",
    "    \"3 ROOM\": 3,\n",
    "    \"4 ROOM\": 4,\n",
    "    \"5 ROOM\": 5,\n",
    "    \"EXECUTIVE\": 6,\n",
    "    \"MULTI-GENERATION\": 7\n",
    "}\n",
    "\n",
    "df[\"flat_type_encoded\"] = df[\"flat_type\"].map(flat_type_order)\n",
    "\n",
    "df = df.drop(columns=[\"flat_type\"])\n",
    "\n",
    "print(df.head())"
   ]
  },
  {
   "cell_type": "markdown",
   "id": "f19271b8",
   "metadata": {},
   "source": [
    "## 6. Reorder the columns and output"
   ]
  },
  {
   "cell_type": "code",
   "execution_count": 69,
   "id": "5bcaa444",
   "metadata": {},
   "outputs": [
    {
     "name": "stdout",
     "output_type": "stream",
     "text": [
      "   time                address  storey_avg  floor_area_sqm  flat_type_encoded  \\\n",
      "0     0  406 ANG MO KIO AVE 10          11            44.0                  2   \n",
      "1     0   108 ANG MO KIO AVE 4           2            67.0                  3   \n",
      "2     0   602 ANG MO KIO AVE 5           2            67.0                  3   \n",
      "3     0  465 ANG MO KIO AVE 10           5            68.0                  3   \n",
      "4     0   601 ANG MO KIO AVE 5           2            67.0                  3   \n",
      "\n",
      "       flat_model  remaining_lease_months  resale_price  \n",
      "0        Improved                     736      232000.0  \n",
      "1  New Generation                     727      250000.0  \n",
      "2  New Generation                     749      262000.0  \n",
      "3  New Generation                     745      265000.0  \n",
      "4  New Generation                     749      265000.0  \n",
      "--------------------\n",
      "Saved cleaned data to: ../data/processed/cleaned_resale_data.csv\n"
     ]
    }
   ],
   "source": [
    "# Reorder columns to look better :D\n",
    "df = df[[\n",
    "    \"time\",\n",
    "    \"address\",\n",
    "    \"storey_avg\",\n",
    "    \"floor_area_sqm\",\n",
    "    \"flat_type_encoded\",\n",
    "    \"flat_model\",\n",
    "    \"remaining_lease_months\",\n",
    "    \"resale_price\"\n",
    "]]\n",
    "\n",
    "# Preview result\n",
    "print(df.head())\n",
    "\n",
    "# Save to CSV\n",
    "output_path = \"../data/processed/cleaned_resale_data.csv\"\n",
    "df.to_csv(output_path, index=False)\n",
    "\n",
    "print(\"-\" * 20)\n",
    "print(f\"Saved cleaned data to: {output_path}\")"
   ]
  },
  {
   "cell_type": "markdown",
   "id": "fe40ebf1",
   "metadata": {},
   "source": [
    "## 7. Dividing into test & train set"
   ]
  },
  {
   "cell_type": "code",
   "execution_count": 70,
   "id": "3e6df469",
   "metadata": {},
   "outputs": [
    {
     "name": "stdout",
     "output_type": "stream",
     "text": [
      "Train set size: 163292\n",
      "Test set size: 40824\n",
      "Train and test sets saved to ../data/processed/\n"
     ]
    }
   ],
   "source": [
    "from sklearn.model_selection import train_test_split\n",
    "\n",
    "# 80% train, 20% test\n",
    "train_df, test_df = train_test_split(df, test_size=0.2, random_state=42)\n",
    "\n",
    "print(f\"Train set size: {len(train_df)}\")\n",
    "print(f\"Test set size: {len(test_df)}\")\n",
    "\n",
    "# Save train and test sets to model folder\n",
    "train_df.to_csv(\"../data/processed/train.csv\", index=False)\n",
    "test_df.to_csv(\"../data/processed/test.csv\", index=False)\n",
    "\n",
    "print(\"Train and test sets saved to ../data/processed/\")\n",
    "\n"
   ]
  },
  {
   "cell_type": "markdown",
   "id": "abace1a0",
   "metadata": {},
   "source": [
    "## 8. Add-on: Searching / Filtering function"
   ]
  },
  {
   "cell_type": "code",
   "execution_count": 71,
   "id": "1a016420",
   "metadata": {},
   "outputs": [],
   "source": [
    "def filter_data(df, **filters):\n",
    "    \"\"\"\n",
    "    Filters the DataFrame based on:\n",
    "    - Exact match: column=value\n",
    "    - Range filter: min_col=value or max_col=value\n",
    "    - Partial string match: contains_col='text'\n",
    "    \n",
    "    Prints the first 10 matching rows.\n",
    "    \"\"\"\n",
    "    filtered_df = df.copy()\n",
    "    \n",
    "    for key, value in filters.items():\n",
    "        if key.startswith(\"min_\"):\n",
    "            col = key[4:]\n",
    "            filtered_df = filtered_df[filtered_df[col] >= value]\n",
    "        elif key.startswith(\"max_\"):\n",
    "            col = key[4:]\n",
    "            filtered_df = filtered_df[filtered_df[col] <= value]\n",
    "        elif key.startswith(\"contains_\"):\n",
    "            col = key[9:]\n",
    "            filtered_df = filtered_df[filtered_df[col].str.contains(value, case=False, na=False)]\n",
    "        else:\n",
    "            # exact match\n",
    "            filtered_df = filtered_df[filtered_df[key] == value]\n",
    "\n",
    "    if filtered_df.empty:\n",
    "        print(\"No matching records found.\")\n",
    "    else:\n",
    "        print(filtered_df.head(10))\n"
   ]
  },
  {
   "cell_type": "code",
   "execution_count": null,
   "id": "7cf26650",
   "metadata": {},
   "outputs": [
    {
     "name": "stdout",
     "output_type": "stream",
     "text": [
      "       time                address  storey_avg  floor_area_sqm  \\\n",
      "20509    12   314 ANG MO KIO AVE 3          11            44.0   \n",
      "20510    12   109 ANG MO KIO AVE 4           2            67.0   \n",
      "20511    12   150 ANG MO KIO AVE 5           2            68.0   \n",
      "20512    12  559 ANG MO KIO AVE 10           2            68.0   \n",
      "20513    12  461 ANG MO KIO AVE 10          11            68.0   \n",
      "20514    12  466 ANG MO KIO AVE 10           5            67.0   \n",
      "20515    12   152 ANG MO KIO AVE 5           5            68.0   \n",
      "20516    12   348 ANG MO KIO AVE 3          11            73.0   \n",
      "20517    12   503 ANG MO KIO AVE 5           2            68.0   \n",
      "20518    12  557 ANG MO KIO AVE 10           5            68.0   \n",
      "\n",
      "       flat_type_encoded      flat_model  remaining_lease_months  resale_price  \n",
      "20509                  2        Improved                     709      250000.0  \n",
      "20510                  3  New Generation                     715      240000.0  \n",
      "20511                  3  New Generation                     744      240000.0  \n",
      "20512                  3  New Generation                     732      242000.0  \n",
      "20513                  3  New Generation                     733      255000.0  \n",
      "20514                  3  New Generation                     788      255000.0  \n",
      "20515                  3  New Generation                     748      258000.0  \n",
      "20516                  3  New Generation                     711      260000.0  \n",
      "20517                  3  New Generation                     744      260000.0  \n",
      "20518                  3  New Generation                     732      265000.0  \n",
      "       time                address  storey_avg  floor_area_sqm  \\\n",
      "92240    50   213 ANG MO KIO AVE 3           5            67.0   \n",
      "92241    50   170 ANG MO KIO AVE 4           5            61.0   \n",
      "92242    50  474 ANG MO KIO AVE 10           5            67.0   \n",
      "92243    50   214 ANG MO KIO AVE 3           2            67.0   \n",
      "92244    50  443 ANG MO KIO AVE 10           5            67.0   \n",
      "92245    50   170 ANG MO KIO AVE 4           2            60.0   \n",
      "92246    50   122 ANG MO KIO AVE 3           2            67.0   \n",
      "92247    50  474 ANG MO KIO AVE 10           2            67.0   \n",
      "92248    50   108 ANG MO KIO AVE 4           8            67.0   \n",
      "92249    50   604 ANG MO KIO AVE 5           5            67.0   \n",
      "\n",
      "       flat_type_encoded      flat_model  remaining_lease_months  resale_price  \n",
      "92240                  3  New Generation                     650      260000.0  \n",
      "92241                  3        Improved                     767      265000.0  \n",
      "92242                  3  New Generation                     744      270000.0  \n",
      "92243                  3  New Generation                     649      270000.0  \n",
      "92244                  3  New Generation                     690      270000.0  \n",
      "92245                  3        Improved                     768      273500.0  \n",
      "92246                  3  New Generation                     681      274888.0  \n",
      "92247                  3  New Generation                     743      275000.0  \n",
      "92248                  3  New Generation                     678      275000.0  \n",
      "92249                  3  New Generation                     700      275000.0  \n",
      "     time                  address  storey_avg  floor_area_sqm  \\\n",
      "314     0  460 CHOA CHU KANG AVE 4           5           104.0   \n",
      "316     0  404 CHOA CHU KANG AVE 3           2           104.0   \n",
      "317     0  692B CHOA CHU KANG CRES           2            90.0   \n",
      "319     0  422 CHOA CHU KANG AVE 4           5           104.0   \n",
      "320     0   680 CHOA CHU KANG CRES           8           105.0   \n",
      "321     0  771 CHOA CHU KANG ST 54           2           102.0   \n",
      "322     0   229 CHOA CHU KANG CTRL           2           104.0   \n",
      "323     0   237 CHOA CHU KANG CTRL           5           110.0   \n",
      "325     0  416 CHOA CHU KANG AVE 4           5           104.0   \n",
      "326     0  414 CHOA CHU KANG AVE 4           2           104.0   \n",
      "\n",
      "     flat_type_encoded         flat_model  remaining_lease_months  \\\n",
      "314                  4  Premium Apartment                     987   \n",
      "316                  4            Model A                     905   \n",
      "317                  4            Model A                    1021   \n",
      "319                  4            Model A                     894   \n",
      "320                  4  Premium Apartment                     981   \n",
      "321                  4            Model A                     942   \n",
      "322                  4            Model A                     856   \n",
      "323                  4            Model A                     872   \n",
      "325                  4            Model A                     905   \n",
      "326                  4            Model A                     905   \n",
      "\n",
      "     resale_price  \n",
      "314      316000.0  \n",
      "316      318000.0  \n",
      "317      325000.0  \n",
      "319      330000.0  \n",
      "320      340000.0  \n",
      "321      343000.0  \n",
      "322      345000.0  \n",
      "323      345000.0  \n",
      "325      350000.0  \n",
      "326      353000.0  \n"
     ]
    },
    {
     "ename": "KeyError",
     "evalue": "'flat_type'",
     "output_type": "error",
     "traceback": [
      "\u001b[1;31m---------------------------------------------------------------------------\u001b[0m",
      "\u001b[1;31mKeyError\u001b[0m                                  Traceback (most recent call last)",
      "File \u001b[1;32mc:\\Users\\lzkua\\.conda\\envs\\ML\\Lib\\site-packages\\pandas\\core\\indexes\\base.py:3805\u001b[0m, in \u001b[0;36mIndex.get_loc\u001b[1;34m(self, key)\u001b[0m\n\u001b[0;32m   3804\u001b[0m \u001b[38;5;28;01mtry\u001b[39;00m:\n\u001b[1;32m-> 3805\u001b[0m     \u001b[38;5;28;01mreturn\u001b[39;00m \u001b[38;5;28mself\u001b[39m\u001b[38;5;241m.\u001b[39m_engine\u001b[38;5;241m.\u001b[39mget_loc(casted_key)\n\u001b[0;32m   3806\u001b[0m \u001b[38;5;28;01mexcept\u001b[39;00m \u001b[38;5;167;01mKeyError\u001b[39;00m \u001b[38;5;28;01mas\u001b[39;00m err:\n",
      "File \u001b[1;32mindex.pyx:167\u001b[0m, in \u001b[0;36mpandas._libs.index.IndexEngine.get_loc\u001b[1;34m()\u001b[0m\n",
      "File \u001b[1;32mindex.pyx:196\u001b[0m, in \u001b[0;36mpandas._libs.index.IndexEngine.get_loc\u001b[1;34m()\u001b[0m\n",
      "File \u001b[1;32mpandas\\\\_libs\\\\hashtable_class_helper.pxi:7081\u001b[0m, in \u001b[0;36mpandas._libs.hashtable.PyObjectHashTable.get_item\u001b[1;34m()\u001b[0m\n",
      "File \u001b[1;32mpandas\\\\_libs\\\\hashtable_class_helper.pxi:7089\u001b[0m, in \u001b[0;36mpandas._libs.hashtable.PyObjectHashTable.get_item\u001b[1;34m()\u001b[0m\n",
      "\u001b[1;31mKeyError\u001b[0m: 'flat_type'",
      "\nThe above exception was the direct cause of the following exception:\n",
      "\u001b[1;31mKeyError\u001b[0m                                  Traceback (most recent call last)",
      "Cell \u001b[1;32mIn[72], line 11\u001b[0m\n\u001b[0;32m      8\u001b[0m filter_data(df, contains_address\u001b[38;5;241m=\u001b[39m\u001b[38;5;124m\"\u001b[39m\u001b[38;5;124mchoa chu kang\u001b[39m\u001b[38;5;124m\"\u001b[39m)\n\u001b[0;32m     10\u001b[0m \u001b[38;5;66;03m# Combine filters\u001b[39;00m\n\u001b[1;32m---> 11\u001b[0m filter_data(df, flat_type\u001b[38;5;241m=\u001b[39m\u001b[38;5;241m4\u001b[39m, min_floor_area_sqm\u001b[38;5;241m=\u001b[39m\u001b[38;5;241m100\u001b[39m, contains_address\u001b[38;5;241m=\u001b[39m\u001b[38;5;124m\"\u001b[39m\u001b[38;5;124myishun\u001b[39m\u001b[38;5;124m\"\u001b[39m)\n",
      "Cell \u001b[1;32mIn[71], line 24\u001b[0m, in \u001b[0;36mfilter_data\u001b[1;34m(df, **filters)\u001b[0m\n\u001b[0;32m     21\u001b[0m         filtered_df \u001b[38;5;241m=\u001b[39m filtered_df[filtered_df[col]\u001b[38;5;241m.\u001b[39mstr\u001b[38;5;241m.\u001b[39mcontains(value, case\u001b[38;5;241m=\u001b[39m\u001b[38;5;28;01mFalse\u001b[39;00m, na\u001b[38;5;241m=\u001b[39m\u001b[38;5;28;01mFalse\u001b[39;00m)]\n\u001b[0;32m     22\u001b[0m     \u001b[38;5;28;01melse\u001b[39;00m:\n\u001b[0;32m     23\u001b[0m         \u001b[38;5;66;03m# exact match\u001b[39;00m\n\u001b[1;32m---> 24\u001b[0m         filtered_df \u001b[38;5;241m=\u001b[39m filtered_df[filtered_df[key] \u001b[38;5;241m==\u001b[39m value]\n\u001b[0;32m     26\u001b[0m \u001b[38;5;28;01mif\u001b[39;00m filtered_df\u001b[38;5;241m.\u001b[39mempty:\n\u001b[0;32m     27\u001b[0m     \u001b[38;5;28mprint\u001b[39m(\u001b[38;5;124m\"\u001b[39m\u001b[38;5;124mNo matching records found.\u001b[39m\u001b[38;5;124m\"\u001b[39m)\n",
      "File \u001b[1;32mc:\\Users\\lzkua\\.conda\\envs\\ML\\Lib\\site-packages\\pandas\\core\\frame.py:4102\u001b[0m, in \u001b[0;36mDataFrame.__getitem__\u001b[1;34m(self, key)\u001b[0m\n\u001b[0;32m   4100\u001b[0m \u001b[38;5;28;01mif\u001b[39;00m \u001b[38;5;28mself\u001b[39m\u001b[38;5;241m.\u001b[39mcolumns\u001b[38;5;241m.\u001b[39mnlevels \u001b[38;5;241m>\u001b[39m \u001b[38;5;241m1\u001b[39m:\n\u001b[0;32m   4101\u001b[0m     \u001b[38;5;28;01mreturn\u001b[39;00m \u001b[38;5;28mself\u001b[39m\u001b[38;5;241m.\u001b[39m_getitem_multilevel(key)\n\u001b[1;32m-> 4102\u001b[0m indexer \u001b[38;5;241m=\u001b[39m \u001b[38;5;28mself\u001b[39m\u001b[38;5;241m.\u001b[39mcolumns\u001b[38;5;241m.\u001b[39mget_loc(key)\n\u001b[0;32m   4103\u001b[0m \u001b[38;5;28;01mif\u001b[39;00m is_integer(indexer):\n\u001b[0;32m   4104\u001b[0m     indexer \u001b[38;5;241m=\u001b[39m [indexer]\n",
      "File \u001b[1;32mc:\\Users\\lzkua\\.conda\\envs\\ML\\Lib\\site-packages\\pandas\\core\\indexes\\base.py:3812\u001b[0m, in \u001b[0;36mIndex.get_loc\u001b[1;34m(self, key)\u001b[0m\n\u001b[0;32m   3807\u001b[0m     \u001b[38;5;28;01mif\u001b[39;00m \u001b[38;5;28misinstance\u001b[39m(casted_key, \u001b[38;5;28mslice\u001b[39m) \u001b[38;5;129;01mor\u001b[39;00m (\n\u001b[0;32m   3808\u001b[0m         \u001b[38;5;28misinstance\u001b[39m(casted_key, abc\u001b[38;5;241m.\u001b[39mIterable)\n\u001b[0;32m   3809\u001b[0m         \u001b[38;5;129;01mand\u001b[39;00m \u001b[38;5;28many\u001b[39m(\u001b[38;5;28misinstance\u001b[39m(x, \u001b[38;5;28mslice\u001b[39m) \u001b[38;5;28;01mfor\u001b[39;00m x \u001b[38;5;129;01min\u001b[39;00m casted_key)\n\u001b[0;32m   3810\u001b[0m     ):\n\u001b[0;32m   3811\u001b[0m         \u001b[38;5;28;01mraise\u001b[39;00m InvalidIndexError(key)\n\u001b[1;32m-> 3812\u001b[0m     \u001b[38;5;28;01mraise\u001b[39;00m \u001b[38;5;167;01mKeyError\u001b[39;00m(key) \u001b[38;5;28;01mfrom\u001b[39;00m \u001b[38;5;21;01merr\u001b[39;00m\n\u001b[0;32m   3813\u001b[0m \u001b[38;5;28;01mexcept\u001b[39;00m \u001b[38;5;167;01mTypeError\u001b[39;00m:\n\u001b[0;32m   3814\u001b[0m     \u001b[38;5;66;03m# If we have a listlike key, _check_indexing_error will raise\u001b[39;00m\n\u001b[0;32m   3815\u001b[0m     \u001b[38;5;66;03m#  InvalidIndexError. Otherwise we fall through and re-raise\u001b[39;00m\n\u001b[0;32m   3816\u001b[0m     \u001b[38;5;66;03m#  the TypeError.\u001b[39;00m\n\u001b[0;32m   3817\u001b[0m     \u001b[38;5;28mself\u001b[39m\u001b[38;5;241m.\u001b[39m_check_indexing_error(key)\n",
      "\u001b[1;31mKeyError\u001b[0m: 'flat_type'"
     ]
    }
   ],
   "source": [
    "# Exact match\n",
    "filter_data(df, time=12)\n",
    "\n",
    "# Numeric range\n",
    "filter_data(df, min_time=50, max_time=60)\n",
    "\n",
    "# String contains\n",
    "filter_data(df, contains_address=\"choa chu kang\")\n",
    "\n",
    "# Combine filters\n",
    "filter_data(df, flat_type_encoded=4, min_floor_area_sqm=100, contains_address=\"yishun\")\n"
   ]
  }
 ],
 "metadata": {
  "kernelspec": {
   "display_name": "ML",
   "language": "python",
   "name": "python3"
  },
  "language_info": {
   "codemirror_mode": {
    "name": "ipython",
    "version": 3
   },
   "file_extension": ".py",
   "mimetype": "text/x-python",
   "name": "python",
   "nbconvert_exporter": "python",
   "pygments_lexer": "ipython3",
   "version": "3.12.3"
  }
 },
 "nbformat": 4,
 "nbformat_minor": 5
}
