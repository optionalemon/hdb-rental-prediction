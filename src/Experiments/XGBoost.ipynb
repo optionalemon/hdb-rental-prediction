{
 "cells": [
  {
   "cell_type": "markdown",
   "id": "9ee0f0ad",
   "metadata": {},
   "source": []
  },
  {
   "cell_type": "code",
   "execution_count": 1,
   "id": "40d80b9d",
   "metadata": {},
   "outputs": [
    {
     "name": "stdout",
     "output_type": "stream",
     "text": [
      "Feature Columns Used:\n",
      "['time', 'storey_avg', 'floor_area_sqm', 'flat_type_encoded', 'remaining_lease_months', 'model_2-room', 'model_3Gen', 'model_Adjoined flat', 'model_Apartment', 'model_DBSS', 'model_Improved', 'model_Improved-Maisonette', 'model_Maisonette', 'model_Model A', 'model_Model A-Maisonette', 'model_Model A2', 'model_Multi Generation', 'model_New Generation', 'model_Premium Apartment', 'model_Premium Apartment Loft', 'model_Premium Maisonette', 'model_Simplified', 'model_Standard', 'model_Terrace', 'model_Type S1', 'model_Type S2']\n"
     ]
    }
   ],
   "source": [
    "import pandas as pd\n",
    "\n",
    "train_data = pd.read_csv('../../data/processed/train.csv')\n",
    "test_data = pd.read_csv('../../data/processed/test.csv')\n",
    "\n",
    "# Perform one-hot encoding\n",
    "train_data = pd.get_dummies(train_data, columns=['flat_model'], prefix='model')\n",
    "test_data = pd.get_dummies(test_data, columns=['flat_model'], prefix='model')\n",
    "\n",
    "# Ensure that both train and test have the same one-hot encoded columns\n",
    "train_columns = set(train_data.columns)\n",
    "test_columns = set(test_data.columns)\n",
    "for col in train_columns - test_columns:\n",
    "    if col.startswith('model_'):\n",
    "        test_data[col] = 0\n",
    "extra_columns = [col for col in test_data.columns if col.startswith('model_') and col not in train_columns]\n",
    "test_data.drop(columns=extra_columns, inplace=True)\n",
    "\n",
    "# Define the feature columns and target columns\n",
    "numeric_features = ['time', 'storey_avg', 'floor_area_sqm', 'flat_type_encoded', 'remaining_lease_months']\n",
    "model_columns = [col for col in train_data.columns if col.startswith('model_')]\n",
    "feature_columns = numeric_features + model_columns\n",
    "target_column = 'resale_price'\n",
    "\n",
    "X_train = train_data[feature_columns]\n",
    "y_train = train_data[target_column]\n",
    "X_test = test_data[feature_columns]\n",
    "y_test = test_data[target_column]\n",
    "\n",
    "print(\"Feature Columns Used:\")\n",
    "print(feature_columns)\n"
   ]
  },
  {
   "cell_type": "code",
   "execution_count": 2,
   "id": "ec82d82e",
   "metadata": {},
   "outputs": [
    {
     "name": "stdout",
     "output_type": "stream",
     "text": [
      "Fitting 3 folds for each of 20 candidates, totalling 60 fits\n",
      "Best Parameters from RandomizedSearchCV:\n",
      "{'subsample': 0.8, 'n_estimators': 200, 'max_depth': 6, 'learning_rate': 0.2, 'colsample_bytree': 1.0}\n"
     ]
    }
   ],
   "source": [
    "from xgboost import XGBRegressor\n",
    "from sklearn.model_selection import RandomizedSearchCV\n",
    "\n",
    "param_distributions = {\n",
    "    'n_estimators': [50, 100, 150, 200],\n",
    "    'max_depth': [3, 4, 5, 6, 8],\n",
    "    'learning_rate': [0.01, 0.05, 0.1, 0.2],\n",
    "    'subsample': [0.6, 0.8, 1.0],\n",
    "    'colsample_bytree': [0.6, 0.8, 1.0]\n",
    "}\n",
    "\n",
    "xgb_model = XGBRegressor(random_state=42, objective='reg:squarederror')\n",
    "\n",
    "random_search = RandomizedSearchCV(\n",
    "    estimator=xgb_model,\n",
    "    param_distributions=param_distributions,\n",
    "    n_iter=20,  \n",
    "    scoring='neg_mean_absolute_error',\n",
    "    cv=3,  \n",
    "    verbose=1,\n",
    "    random_state=42,\n",
    "    n_jobs=-1 \n",
    ")\n",
    "\n",
    "random_search.fit(X_train, y_train)\n",
    "\n",
    "print(\"Best Parameters from RandomizedSearchCV:\")\n",
    "print(random_search.best_params_)"
   ]
  },
  {
   "cell_type": "code",
   "execution_count": 3,
   "id": "2439d180",
   "metadata": {},
   "outputs": [
    {
     "name": "stdout",
     "output_type": "stream",
     "text": [
      "\n",
      "XGBoost Model Evaluation:\n",
      "Mean Absolute Error (MAE): 53670.33516329242\n",
      "Root Mean Squared Error (RMSE): 77600.80163564642\n"
     ]
    }
   ],
   "source": [
    "from sklearn.metrics import mean_absolute_error, mean_squared_error\n",
    "import numpy as np\n",
    "\n",
    "best_xgb_model = random_search.best_estimator_\n",
    "xgb_predictions = best_xgb_model.predict(X_test)\n",
    "\n",
    "# Evaluate the model performance\n",
    "test_data['xgb_predicted_price'] = xgb_predictions\n",
    "xgb_mae = mean_absolute_error(y_test, xgb_predictions)\n",
    "xgb_rmse = np.sqrt(mean_squared_error(y_test, xgb_predictions))\n",
    "\n",
    "print(\"\\nXGBoost Model Evaluation:\")\n",
    "print(\"Mean Absolute Error (MAE):\", xgb_mae)\n",
    "print(\"Root Mean Squared Error (RMSE):\", xgb_rmse)\n"
   ]
  },
  {
   "cell_type": "code",
   "execution_count": null,
   "id": "5c446275",
   "metadata": {},
   "outputs": [],
   "source": []
  }
 ],
 "metadata": {
  "kernelspec": {
   "display_name": ".venv",
   "language": "python",
   "name": "python3"
  },
  "language_info": {
   "codemirror_mode": {
    "name": "ipython",
    "version": 3
   },
   "file_extension": ".py",
   "mimetype": "text/x-python",
   "name": "python",
   "nbconvert_exporter": "python",
   "pygments_lexer": "ipython3",
   "version": "3.12.4"
  }
 },
 "nbformat": 4,
 "nbformat_minor": 5
}
