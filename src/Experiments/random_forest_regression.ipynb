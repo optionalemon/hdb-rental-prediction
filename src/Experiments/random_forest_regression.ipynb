{
 "cells": [
  {
   "cell_type": "markdown",
   "id": "ee22a23a",
   "metadata": {},
   "source": []
  },
  {
   "cell_type": "code",
   "execution_count": 2,
   "id": "0b192105",
   "metadata": {},
   "outputs": [],
   "source": [
    "import pandas as pd\n",
    "\n",
    "train_data = pd.read_csv('../../data/processed/train.csv')\n",
    "test_data = pd.read_csv('../../data/processed/test.csv')\n",
    "\n",
    "# Drop the address column\n",
    "train_data = train_data.drop(columns=['address'])\n",
    "test_data = test_data.drop(columns=['address'])\n",
    "\n",
    "# One-hot encode the 'flat_model' since it's categorical\n",
    "train_data = pd.get_dummies(train_data, columns=['flat_model'], drop_first=True)\n",
    "test_data = pd.get_dummies(test_data, columns=['flat_model'], drop_first=True)\n",
    "\n",
    "\n",
    "feature_columns = train_data.columns.difference({'resale_price'}).tolist()\n",
    "target_column = 'resale_price'\n",
    "\n",
    "\n",
    "# Reorder the columns of the test data to match train data order\n",
    "test_data = test_data[feature_columns + [target_column]]\n",
    "\n",
    "X_train = train_data[feature_columns]\n",
    "y_train = train_data[target_column]\n",
    "\n",
    "X_test = test_data[feature_columns]\n",
    "y_test = test_data[target_column]"
   ]
  },
  {
   "cell_type": "code",
   "execution_count": 3,
   "id": "7c5cf4be",
   "metadata": {},
   "outputs": [
    {
     "name": "stdout",
     "output_type": "stream",
     "text": [
      "Random Forest Model Parameters: {'bootstrap': True, 'ccp_alpha': 0.0, 'criterion': 'squared_error', 'max_depth': None, 'max_features': 1.0, 'max_leaf_nodes': None, 'max_samples': None, 'min_impurity_decrease': 0.0, 'min_samples_leaf': 1, 'min_samples_split': 2, 'min_weight_fraction_leaf': 0.0, 'monotonic_cst': None, 'n_estimators': 100, 'n_jobs': None, 'oob_score': False, 'random_state': 42, 'verbose': 0, 'warm_start': False}\n"
     ]
    }
   ],
   "source": [
    "from sklearn.ensemble import RandomForestRegressor\n",
    "\n",
    "# Initialize the Random Forest Regressor\n",
    "rf_model = RandomForestRegressor(random_state=42)\n",
    "\n",
    "# Fit the model on the training data\n",
    "rf_model.fit(X_train, y_train)\n",
    "\n",
    "# You can view some of the parameters if desired\n",
    "print(\"Random Forest Model Parameters:\", rf_model.get_params())\n"
   ]
  },
  {
   "cell_type": "code",
   "execution_count": 4,
   "id": "6edd4bc8",
   "metadata": {},
   "outputs": [
    {
     "name": "stdout",
     "output_type": "stream",
     "text": [
      "\n",
      "Evaluation Metrics for Random Forest Regression:\n",
      "Mean Absolute Error (MAE): 51672.459607081415\n",
      "Root Mean Squared Error (RMSE): 77904.03342693887\n"
     ]
    }
   ],
   "source": [
    "from sklearn.metrics import mean_absolute_error, mean_squared_error\n",
    "import numpy as np\n",
    "\n",
    "# Predict resale prices on the test set\n",
    "rf_predictions = rf_model.predict(X_test)\n",
    "\n",
    "\n",
    "# Calculate evaluation metrics for Random Forest predictions\n",
    "test_data['rf_predicted_price'] = rf_predictions\n",
    "rf_mae = mean_absolute_error(y_test, rf_predictions)\n",
    "rf_rmse = np.sqrt(mean_squared_error(y_test, rf_predictions))\n",
    "\n",
    "print(\"\\nEvaluation Metrics for Random Forest Regression:\")\n",
    "print(\"Mean Absolute Error (MAE):\", rf_mae)\n",
    "print(\"Root Mean Squared Error (RMSE):\", rf_rmse)\n"
   ]
  },
  {
   "cell_type": "code",
   "execution_count": null,
   "id": "2c9c3a09",
   "metadata": {},
   "outputs": [],
   "source": []
  }
 ],
 "metadata": {
  "kernelspec": {
   "display_name": ".venv",
   "language": "python",
   "name": "python3"
  },
  "language_info": {
   "codemirror_mode": {
    "name": "ipython",
    "version": 3
   },
   "file_extension": ".py",
   "mimetype": "text/x-python",
   "name": "python",
   "nbconvert_exporter": "python",
   "pygments_lexer": "ipython3",
   "version": "3.12.4"
  }
 },
 "nbformat": 4,
 "nbformat_minor": 5
}
