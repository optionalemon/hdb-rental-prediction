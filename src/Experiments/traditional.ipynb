{
 "cells": [
  {
   "cell_type": "code",
   "execution_count": 1,
   "id": "a1dcaa35",
   "metadata": {},
   "outputs": [
    {
     "name": "stdout",
     "output_type": "stream",
     "text": [
      "   time                  address  storey_avg  floor_area_sqm  \\\n",
      "0    29   664C JURONG WEST ST 64           5            91.0   \n",
      "1    12  524 CHOA CHU KANG ST 51           5           144.0   \n",
      "2    43             87 DAWSON RD          23            65.0   \n",
      "3     5      168 LOR 1 TOA PAYOH          11            65.0   \n",
      "4    80  249 BT BATOK EAST AVE 5          11            73.0   \n",
      "\n",
      "   flat_type_encoded         flat_model  remaining_lease_months  resale_price  \n",
      "0                  4            Model A                     963      380000.0  \n",
      "1                  6          Apartment                     913      437000.0  \n",
      "2                  3  Premium Apartment                    1140      642888.0  \n",
      "3                  3           Improved                     650      320000.0  \n",
      "4                  3            Model A                     726      400000.0  \n",
      "   time              address  storey_avg  floor_area_sqm  flat_type_encoded  \\\n",
      "0     1         167 PETIR RD           5           100.0                  4   \n",
      "1     1     166 BISHAN ST 13           8            84.0                  4   \n",
      "2    42   534 BEDOK NTH ST 3           2            60.0                  3   \n",
      "3    44      273A PUNGGOL PL           8            93.0                  4   \n",
      "4    46  146 WOODLANDS ST 13           8            68.0                  3   \n",
      "\n",
      "          flat_model  remaining_lease_months  resale_price  \n",
      "0            Model A                     966      405000.0  \n",
      "1         Simplified                     838      448000.0  \n",
      "2           Improved                     776      215000.0  \n",
      "3  Premium Apartment                    1103      510000.0  \n",
      "4     New Generation                     761      268000.0  \n"
     ]
    }
   ],
   "source": [
    "# Import Data\n",
    "\n",
    "import pandas as pd\n",
    "\n",
    "train_data = pd.read_csv('../../data/processed/train.csv')\n",
    "test_data = pd.read_csv('../../data/processed/test.csv')\n",
    "\n",
    "print(train_data.head())\n",
    "print(test_data.head())\n"
   ]
  },
  {
   "cell_type": "markdown",
   "id": "e5a0ab95",
   "metadata": {},
   "source": []
  },
  {
   "cell_type": "code",
   "execution_count": 2,
   "id": "ac1b2ecd",
   "metadata": {},
   "outputs": [],
   "source": [
    "# Calculate predicted price\n",
    "\n",
    "train_data['price_per_sqm'] = train_data['resale_price'] / train_data['floor_area_sqm']\n",
    "global_avg_price_per_sqm = train_data['price_per_sqm'].mean()\n",
    "test_data['predicted_price'] = test_data['floor_area_sqm'] * global_avg_price_per_sqm\n"
   ]
  },
  {
   "cell_type": "code",
   "execution_count": null,
   "id": "b947575c",
   "metadata": {},
   "outputs": [
    {
     "name": "stdout",
     "output_type": "stream",
     "text": [
      "Mean Absolute Error (MAE): 110943.27822303078\n",
      "Root Mean Squared Error (RMSE): 148240.91938231463\n",
      "R² Score: 0.3228419470859505\n"
     ]
    }
   ],
   "source": [
    "from sklearn.metrics import mean_absolute_error, mean_squared_error, r2_score \n",
    "import numpy as np\n",
    "\n",
    "# Calculate accuracy using MSE metric\n",
    "mae = mean_absolute_error(test_data['resale_price'], test_data['predicted_price'])\n",
    "rmse = np.sqrt(mean_squared_error(test_data['resale_price'], test_data['predicted_price']))\n",
    "r2 = r2_score(test_data['resale_price'], test_data['predicted_price'])\n",
    "\n",
    "# Print metrics\n",
    "print(\"Mean Absolute Error (MAE):\", mae)\n",
    "print(\"Root Mean Squared Error (RMSE):\", rmse)\n",
    "print(\"R² Score:\", r2)\n"
   ]
  }
 ],
 "metadata": {
  "kernelspec": {
   "display_name": ".venv",
   "language": "python",
   "name": "python3"
  },
  "language_info": {
   "codemirror_mode": {
    "name": "ipython",
    "version": 3
   },
   "file_extension": ".py",
   "mimetype": "text/x-python",
   "name": "python",
   "nbconvert_exporter": "python",
   "pygments_lexer": "ipython3",
   "version": "3.12.4"
  }
 },
 "nbformat": 4,
 "nbformat_minor": 5
}
