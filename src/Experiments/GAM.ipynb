{
 "cells": [
  {
   "cell_type": "code",
   "execution_count": 1,
   "id": "23deb78e",
   "metadata": {},
   "outputs": [],
   "source": [
    "import pandas as pd\n",
    "import numpy as np\n",
    "from pygam import LinearGAM, s, l\n",
    "from sklearn.metrics import mean_absolute_error, mean_squared_error, r2_score\n",
    "\n",
    "import scipy.sparse as sp\n",
    "sp.csr_matrix.A = property(lambda self: self.toarray())\n"
   ]
  },
  {
   "cell_type": "code",
   "execution_count": 3,
   "id": "a2a35a73",
   "metadata": {},
   "outputs": [],
   "source": [
    "# Data Preperation\n",
    "train = pd.read_csv('../../data/processed/train.csv')\n",
    "test  = pd.read_csv('../../data/processed/test.csv')\n",
    "\n",
    "train = pd.get_dummies(train, columns=['flat_model'], prefix='model')\n",
    "test  = pd.get_dummies(test,  columns=['flat_model'], prefix='model')\n",
    "\n",
    "tcols = set(train.columns)\n",
    "scols = set(test.columns)\n",
    "for c in tcols - scols:\n",
    "    if c.startswith('model_'):\n",
    "        test[c] = 0\n",
    "extra = [c for c in test.columns if c.startswith('model_') and c not in tcols]\n",
    "test.drop(columns=extra, inplace=True)\n",
    "\n",
    "num_feats   = ['time','storey_avg','floor_area_sqm','flat_type_encoded','remaining_lease_months']\n",
    "model_feats = [c for c in train.columns if c.startswith('model_')]\n",
    "\n",
    "X_tr = train[num_feats + model_feats].values\n",
    "y_tr = train['resale_price'].values\n",
    "X_te = test [num_feats + model_feats].values\n",
    "y_te = test ['resale_price'].values"
   ]
  },
  {
   "cell_type": "code",
   "execution_count": 4,
   "id": "975b88a8",
   "metadata": {},
   "outputs": [
    {
     "name": "stderr",
     "output_type": "stream",
     "text": [
      "  0% (0 of 3) |                          | Elapsed Time: 0:00:00 ETA:  --:--:--\n",
      " 33% (1 of 3) |########                  | Elapsed Time: 0:00:04 ETA:   0:00:09\n",
      " 66% (2 of 3) |#################         | Elapsed Time: 0:00:09 ETA:   0:00:04\n",
      "100% (3 of 3) |##########################| Elapsed Time: 0:00:14 Time:  0:00:14\n"
     ]
    }
   ],
   "source": [
    "#include terms\n",
    "\n",
    "splines = [s(i) for i in range(len(num_feats))]\n",
    "linears = [l(i) for i in range(len(num_feats), len(num_feats)+len(model_feats))]\n",
    "\n",
    "terms = splines[0]\n",
    "for t in splines[1:] + linears:\n",
    "    terms += t\n",
    "\n",
    "gam = LinearGAM(terms)\n",
    "\n",
    "lams     = [0.1, 1, 10]\n",
    "best_gam = gam.gridsearch(X_tr, y_tr, lam=lams)"
   ]
  },
  {
   "cell_type": "code",
   "execution_count": null,
   "id": "a763df0f",
   "metadata": {},
   "outputs": [
    {
     "name": "stdout",
     "output_type": "stream",
     "text": [
      "Best λ: [[0.1], [0.1], [0.1], [0.1], [0.1], [0.1], [0.1], [0.1], [0.1], [0.1], [0.1], [0.1], [0.1], [0.1], [0.1], [0.1], [0.1], [0.1], [0.1], [0.1], [0.1], [0.1], [0.1], [0.1], [0.1], [0.1]]\n",
      "GAM MAE:  66568.73\n",
      "GAM RMSE: 92118.07\n",
      "GAM R²:   0.7385\n"
     ]
    }
   ],
   "source": [
    "preds = best_gam.predict(X_te)\n",
    "mae   = mean_absolute_error(y_te, preds)\n",
    "rmse  = np.sqrt(mean_squared_error(y_te, preds))\n",
    "r2    = r2_score(y_te, preds) \n",
    "\n",
    "print(f\"Best λ: {best_gam.lam}\")\n",
    "print(f\"GAM MAE:  {mae:.2f}\")\n",
    "print(f\"GAM RMSE: {rmse:.2f}\")\n",
    "print(f\"GAM R²:   {r2:.4f}\") "
   ]
  }
 ],
 "metadata": {
  "kernelspec": {
   "display_name": ".venv",
   "language": "python",
   "name": "python3"
  },
  "language_info": {
   "codemirror_mode": {
    "name": "ipython",
    "version": 3
   },
   "file_extension": ".py",
   "mimetype": "text/x-python",
   "name": "python",
   "nbconvert_exporter": "python",
   "pygments_lexer": "ipython3",
   "version": "3.12.4"
  }
 },
 "nbformat": 4,
 "nbformat_minor": 5
}
