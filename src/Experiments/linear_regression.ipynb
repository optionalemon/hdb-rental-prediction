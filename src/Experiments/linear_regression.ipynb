{
 "cells": [
  {
   "cell_type": "markdown",
   "id": "b3f610a3",
   "metadata": {},
   "source": [
    "Note: for linear regression we only consider numerical columns. We drop the `address` column."
   ]
  },
  {
   "cell_type": "code",
   "execution_count": null,
   "id": "be9bc10b",
   "metadata": {
    "vscode": {
     "languageId": "plaintext"
    }
   },
   "outputs": [],
   "source": []
  }
 ],
 "metadata": {
  "language_info": {
   "name": "python"
  }
 },
 "nbformat": 4,
 "nbformat_minor": 5
}
