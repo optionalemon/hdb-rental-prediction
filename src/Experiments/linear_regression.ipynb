{
 "cells": [
  {
   "cell_type": "markdown",
   "id": "b3f610a3",
   "metadata": {},
   "source": [
    "Note: for linear regression we only consider numerical columns. We drop the `address` column."
   ]
  },
  {
   "cell_type": "code",
   "execution_count": 9,
   "id": "be9bc10b",
   "metadata": {},
   "outputs": [],
   "source": [
    "import pandas as pd\n",
    "\n",
    "train_data = pd.read_csv('../../data/processed/train.csv')\n",
    "test_data = pd.read_csv('../../data/processed/test.csv')\n",
    "\n",
    "# Drop the address column\n",
    "train_data = train_data.drop(columns=['address'])\n",
    "test_data = test_data.drop(columns=['address'])\n",
    "\n",
    "# One-hot encode the 'flat_model' since it's categorical\n",
    "train_data = pd.get_dummies(train_data, columns=['flat_model'], drop_first=True)\n",
    "test_data = pd.get_dummies(test_data, columns=['flat_model'], drop_first=True)\n",
    "\n",
    "\n",
    "feature_columns = train_data.columns.difference({'resale_price'}).tolist()\n",
    "target_column = 'resale_price'\n",
    "\n",
    "\n",
    "# Reorder the columns of the test data to match train data order\n",
    "test_data = test_data[feature_columns + [target_column]]\n",
    "\n",
    "X_train = train_data[feature_columns]\n",
    "y_train = train_data[target_column]\n",
    "\n",
    "X_test = test_data[feature_columns]\n",
    "y_test = test_data[target_column]"
   ]
  },
  {
   "cell_type": "code",
   "execution_count": null,
   "id": "b3d41e7d",
   "metadata": {},
   "outputs": [
    {
     "name": "stdout",
     "output_type": "stream",
     "text": [
      "Model Intercept: -379370.24410751753\n",
      "Model Coefficients:\n",
      "  flat_model_3Gen: 77425.59206651816\n",
      "  flat_model_Adjoined flat: 203673.3455300664\n",
      "  flat_model_Apartment: 93068.84142226439\n",
      "  flat_model_DBSS: 273055.07770403\n",
      "  flat_model_Improved: 78363.0795099695\n",
      "  flat_model_Improved-Maisonette: 261544.1550661788\n",
      "  flat_model_Maisonette: 172643.90720298231\n",
      "  flat_model_Model A: 72133.02057805915\n",
      "  flat_model_Model A-Maisonette: 231954.4270586484\n",
      "  flat_model_Model A2: 13978.795142852077\n",
      "  flat_model_Multi Generation: 193153.05960149624\n",
      "  flat_model_New Generation: 86995.26235843432\n",
      "  flat_model_Premium Apartment: 59466.51884053476\n",
      "  flat_model_Premium Apartment Loft: 353797.055967996\n",
      "  flat_model_Premium Maisonette: 132313.06913847083\n",
      "  flat_model_Simplified: 84818.73755323792\n",
      "  flat_model_Standard: 132921.08407015604\n",
      "  flat_model_Terrace: 540003.1044821681\n",
      "  flat_model_Type S1: 448677.22718826105\n",
      "  flat_model_Type S2: 493866.1437062395\n",
      "  flat_type_encoded: 20818.259274314478\n",
      "  floor_area_sqm: 3318.574153872916\n",
      "  remaining_lease_months: 219.86228901773575\n",
      "  storey_avg: 8100.224279457898\n",
      "  time: 2559.3680477633134\n"
     ]
    }
   ],
   "source": [
    "from sklearn.linear_model import LinearRegression\n",
    "\n",
    "# Initialize and train the Linear Regression model\n",
    "lin_reg = LinearRegression()\n",
    "lin_reg.fit(X_train, y_train)\n",
    "\n"
   ]
  },
  {
   "cell_type": "code",
   "execution_count": 11,
   "id": "63173684",
   "metadata": {},
   "outputs": [
    {
     "name": "stdout",
     "output_type": "stream",
     "text": [
      "\n",
      "Evaluation Metrics for Linear Regression:\n",
      "Mean Absolute Error (MAE): 73850.2557691586\n",
      "Root Mean Squared Error (RMSE): 99476.89673165572\n"
     ]
    }
   ],
   "source": [
    "from sklearn.metrics import mean_absolute_error, mean_squared_error\n",
    "import numpy as np\n",
    "\n",
    "# Predict resale prices\n",
    "y_pred = lin_reg.predict(X_test)\n",
    "\n",
    "test_data['predicted_price'] = y_pred\n",
    "\n",
    "\n",
    "# Calculate evaluation metrics\n",
    "mae = mean_absolute_error(y_test, y_pred)\n",
    "rmse = np.sqrt(mean_squared_error(y_test, y_pred))\n",
    "\n",
    "print(\"\\nEvaluation Metrics for Linear Regression:\")\n",
    "print(\"Mean Absolute Error (MAE):\", mae)\n",
    "print(\"Root Mean Squared Error (RMSE):\", rmse)\n",
    "\n"
   ]
  },
  {
   "cell_type": "code",
   "execution_count": null,
   "id": "3442c3dc",
   "metadata": {},
   "outputs": [],
   "source": []
  }
 ],
 "metadata": {
  "kernelspec": {
   "display_name": ".venv",
   "language": "python",
   "name": "python3"
  },
  "language_info": {
   "codemirror_mode": {
    "name": "ipython",
    "version": 3
   },
   "file_extension": ".py",
   "mimetype": "text/x-python",
   "name": "python",
   "nbconvert_exporter": "python",
   "pygments_lexer": "ipython3",
   "version": "3.12.4"
  }
 },
 "nbformat": 4,
 "nbformat_minor": 5
}
