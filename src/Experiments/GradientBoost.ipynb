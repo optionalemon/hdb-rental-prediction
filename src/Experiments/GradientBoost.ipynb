{
 "cells": [
  {
   "cell_type": "code",
   "execution_count": null,
   "id": "f2d429fc",
   "metadata": {},
   "outputs": [],
   "source": [
    "import pandas as pd\n",
    "import numpy as np\n",
    "from sklearn.preprocessing import OneHotEncoder\n",
    "from sklearn.compose import ColumnTransformer\n",
    "from sklearn.pipeline import Pipeline\n",
    "from sklearn.ensemble import GradientBoostingRegressor\n",
    "from sklearn.metrics import mean_squared_error, r2_score, mean_absolute_error"
   ]
  },
  {
   "cell_type": "code",
   "execution_count": 2,
   "id": "857354c4",
   "metadata": {},
   "outputs": [],
   "source": [
    "train_data = pd.read_csv('../../data/processed/train.csv')\n",
    "test_data = pd.read_csv('../../data/processed/test.csv')"
   ]
  },
  {
   "cell_type": "code",
   "execution_count": 4,
   "id": "4b26f118",
   "metadata": {},
   "outputs": [
    {
     "name": "stdout",
     "output_type": "stream",
     "text": [
      "   time                  address  storey_avg  floor_area_sqm  \\\n",
      "0    29   664C JURONG WEST ST 64           5            91.0   \n",
      "1    12  524 CHOA CHU KANG ST 51           5           144.0   \n",
      "2    43             87 DAWSON RD          23            65.0   \n",
      "3     5      168 LOR 1 TOA PAYOH          11            65.0   \n",
      "4    80  249 BT BATOK EAST AVE 5          11            73.0   \n",
      "\n",
      "   flat_type_encoded         flat_model  remaining_lease_months  resale_price  \n",
      "0                  4            Model A                     963      380000.0  \n",
      "1                  6          Apartment                     913      437000.0  \n",
      "2                  3  Premium Apartment                    1140      642888.0  \n",
      "3                  3           Improved                     650      320000.0  \n",
      "4                  3            Model A                     726      400000.0  \n"
     ]
    }
   ],
   "source": [
    "# Identify categorical and numerical columns\n",
    "categorical_cols = ['flat_model']\n",
    "numerical_cols = ['time', 'storey_avg', 'floor_area_sqm', 'flat_type_encoded', 'remaining_lease_months']\n",
    "\n",
    "# Create column transformer for preprocessing\n",
    "preprocessor = ColumnTransformer(\n",
    "    transformers=[\n",
    "        ('num', 'passthrough', numerical_cols),\n",
    "        ('cat', OneHotEncoder(handle_unknown='ignore'), categorical_cols)\n",
    "    ])\n",
    "\n",
    "# Prepare X and y for both datasets\n",
    "X_train = train_data[numerical_cols + categorical_cols]\n",
    "y_train = train_data['resale_price']\n",
    "X_test = test_data[numerical_cols + categorical_cols]\n",
    "y_test = test_data['resale_price']\n",
    "\n",
    "print(train_data.head())"
   ]
  },
  {
   "cell_type": "code",
   "execution_count": 5,
   "id": "9bd89418",
   "metadata": {},
   "outputs": [],
   "source": [
    "def evaluate_model(y_true, y_pred, model_name):\n",
    "    mse = mean_squared_error(y_true, y_pred)\n",
    "    rmse = np.sqrt(mse)\n",
    "    mae = mean_absolute_error(y_true, y_pred)\n",
    "    r2 = r2_score(y_true, y_pred)\n",
    "    \n",
    "    print(f\"\\n{model_name} Evaluation Metrics:\")\n",
    "    print(f\"MSE: {mse:.2f}\")\n",
    "    print(f\"RMSE: {rmse:.2f}\")\n",
    "    print(f\"MAE: {mae:.2f}\")\n",
    "    print(f\"R²: {r2:.4f}\")\n",
    "    \n",
    "    return mse, rmse, mae, r2"
   ]
  },
  {
   "cell_type": "code",
   "execution_count": null,
   "id": "843e4d89",
   "metadata": {},
   "outputs": [],
   "source": []
  },
  {
   "cell_type": "code",
   "execution_count": 6,
   "id": "3e43f5c8",
   "metadata": {},
   "outputs": [],
   "source": [
    "gbm_pipeline = Pipeline([\n",
    "    ('preprocessor', preprocessor),\n",
    "    ('regressor', GradientBoostingRegressor(\n",
    "        n_estimators=200,\n",
    "        learning_rate=0.1,\n",
    "        max_depth=5,\n",
    "        min_samples_split=5,\n",
    "        min_samples_leaf=2,\n",
    "        subsample=0.8,\n",
    "        random_state=42\n",
    "    ))\n",
    "])\n",
    "\n",
    "# Train the model\n",
    "gbm_pipeline.fit(X_train, y_train)\n",
    "\n",
    "# Make predictions\n",
    "gbm_pred_train = gbm_pipeline.predict(X_train)\n",
    "gbm_pred_test = gbm_pipeline.predict(X_test)"
   ]
  },
  {
   "cell_type": "code",
   "execution_count": 7,
   "id": "0a7001c8",
   "metadata": {},
   "outputs": [
    {
     "name": "stdout",
     "output_type": "stream",
     "text": [
      "\n",
      "Training set evaluation:\n",
      "\n",
      "Gradient Boosting Evaluation Metrics:\n",
      "MSE: 6448629016.44\n",
      "RMSE: 80303.36\n",
      "MAE: 56383.70\n",
      "R²: 0.8013\n",
      "\n",
      "Test set evaluation:\n",
      "\n",
      "Gradient Boosting Evaluation Metrics:\n",
      "MSE: 6605149534.54\n",
      "RMSE: 81272.07\n",
      "MAE: 56953.99\n",
      "R²: 0.7965\n"
     ]
    }
   ],
   "source": [
    "# Evaluate the model\n",
    "print(\"\\nTraining set evaluation:\")\n",
    "gbm_train_metrics = evaluate_model(y_train, gbm_pred_train, \"Gradient Boosting\")\n",
    "print(\"\\nTest set evaluation:\")\n",
    "gbm_test_metrics = evaluate_model(y_test, gbm_pred_test, \"Gradient Boosting\")\n",
    "\n",
    "# Feature importance for GBM\n",
    "gbm_model = gbm_pipeline.named_steps['regressor']\n",
    "preprocessor_obj = gbm_pipeline.named_steps['preprocessor']\n",
    "feature_names = (numerical_cols + \n",
    "                 list(preprocessor_obj.named_transformers_['cat'].get_feature_names_out(['flat_model'])))"
   ]
  },
  {
   "cell_type": "code",
   "execution_count": 8,
   "id": "94c40cda",
   "metadata": {},
   "outputs": [
    {
     "name": "stdout",
     "output_type": "stream",
     "text": [
      "\n",
      "Feature ranking:\n",
      "1. floor_area_sqm (0.4050)\n",
      "2. time (0.2028)\n",
      "3. storey_avg (0.1281)\n",
      "4. flat_type_encoded (0.1204)\n",
      "5. remaining_lease_months (0.0865)\n",
      "6. flat_model_DBSS (0.0246)\n",
      "7. flat_model_Type S1 (0.0069)\n",
      "8. flat_model_Premium Apartment (0.0066)\n",
      "9. flat_model_Terrace (0.0040)\n",
      "10. flat_model_Type S2 (0.0031)\n",
      "11. flat_model_Model A (0.0031)\n",
      "12. flat_model_Improved (0.0027)\n",
      "13. flat_model_Maisonette (0.0014)\n",
      "14. flat_model_Standard (0.0013)\n",
      "15. flat_model_Model A2 (0.0011)\n",
      "16. flat_model_Premium Apartment Loft (0.0011)\n",
      "17. flat_model_Model A-Maisonette (0.0004)\n",
      "18. flat_model_Apartment (0.0003)\n",
      "19. flat_model_Adjoined flat (0.0002)\n",
      "20. flat_model_New Generation (0.0001)\n",
      "21. flat_model_Simplified (0.0001)\n",
      "22. flat_model_Improved-Maisonette (0.0001)\n",
      "23. flat_model_Multi Generation (0.0001)\n",
      "24. flat_model_3Gen (0.0001)\n",
      "25. flat_model_Premium Maisonette (0.0000)\n",
      "26. flat_model_2-room (0.0000)\n"
     ]
    }
   ],
   "source": [
    "# Get feature importances\n",
    "importances = gbm_model.feature_importances_\n",
    "indices = np.argsort(importances)[::-1]\n",
    "\n",
    "# Print feature ranking\n",
    "print(\"\\nFeature ranking:\")\n",
    "for i in range(len(importances)):\n",
    "    if i < len(feature_names):\n",
    "        print(f\"{i+1}. {feature_names[indices[i]]} ({importances[indices[i]]:.4f})\")"
   ]
  }
 ],
 "metadata": {
  "kernelspec": {
   "display_name": "venv",
   "language": "python",
   "name": "python3"
  },
  "language_info": {
   "codemirror_mode": {
    "name": "ipython",
    "version": 3
   },
   "file_extension": ".py",
   "mimetype": "text/x-python",
   "name": "python",
   "nbconvert_exporter": "python",
   "pygments_lexer": "ipython3",
   "version": "3.11.12"
  }
 },
 "nbformat": 4,
 "nbformat_minor": 5
}
