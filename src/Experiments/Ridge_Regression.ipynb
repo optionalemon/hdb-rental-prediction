{
 "cells": [
  {
   "cell_type": "code",
   "execution_count": 2,
   "id": "fed4973d",
   "metadata": {},
   "outputs": [
    {
     "name": "stdout",
     "output_type": "stream",
     "text": [
      "Feature Columns Used:\n",
      "['time', 'storey_avg', 'floor_area_sqm', 'flat_type_encoded', 'remaining_lease_months', 'model_2-room', 'model_3Gen', 'model_Adjoined flat', 'model_Apartment', 'model_DBSS', 'model_Improved', 'model_Improved-Maisonette', 'model_Maisonette', 'model_Model A', 'model_Model A-Maisonette', 'model_Model A2', 'model_Multi Generation', 'model_New Generation', 'model_Premium Apartment', 'model_Premium Apartment Loft', 'model_Premium Maisonette', 'model_Simplified', 'model_Standard', 'model_Terrace', 'model_Type S1', 'model_Type S2']\n"
     ]
    }
   ],
   "source": [
    "import pandas as pd\n",
    "\n",
    "train_data = pd.read_csv('../../data/processed/train.csv')\n",
    "test_data = pd.read_csv('../../data/processed/test.csv')\n",
    "\n",
    "# Perform one-hot encoding\n",
    "train_data = pd.get_dummies(train_data, columns=['flat_model'], prefix='model')\n",
    "test_data = pd.get_dummies(test_data, columns=['flat_model'], prefix='model')\n",
    "\n",
    "# Ensure that both train and test have the same one-hot encoded columns\n",
    "train_columns = set(train_data.columns)\n",
    "test_columns = set(test_data.columns)\n",
    "for col in train_columns - test_columns:\n",
    "    if col.startswith('model_'):\n",
    "        test_data[col] = 0\n",
    "extra_columns = [col for col in test_data.columns if col.startswith('model_') and col not in train_columns]\n",
    "test_data.drop(columns=extra_columns, inplace=True)\n",
    "\n",
    "# Define the feature columns and target columns\n",
    "numeric_features = ['time', 'storey_avg', 'floor_area_sqm', 'flat_type_encoded', 'remaining_lease_months']\n",
    "model_columns = [col for col in train_data.columns if col.startswith('model_')]\n",
    "feature_columns = numeric_features + model_columns\n",
    "target_column = 'resale_price'\n",
    "\n",
    "X_train = train_data[feature_columns]\n",
    "y_train = train_data[target_column]\n",
    "X_test = test_data[feature_columns]\n",
    "y_test = test_data[target_column]\n",
    "\n",
    "print(\"Feature Columns Used:\")\n",
    "print(feature_columns)\n"
   ]
  },
  {
   "cell_type": "code",
   "execution_count": 3,
   "id": "e301aa0d",
   "metadata": {},
   "outputs": [
    {
     "name": "stdout",
     "output_type": "stream",
     "text": [
      "Best α: {'ridge__alpha': np.float64(621.0169418915616)}\n"
     ]
    }
   ],
   "source": [
    "# 2. Pipeline + Hyperparameter Search\n",
    "pipe = Pipeline([\n",
    "    ('scale', StandardScaler()),\n",
    "    ('ridge', Ridge(random_state=42))\n",
    "])\n",
    "\n",
    "param_dist = {\n",
    "    'ridge__alpha': np.logspace(-3, 3, 30)\n",
    "}\n",
    "\n",
    "search = RandomizedSearchCV(\n",
    "    pipe, param_dist,\n",
    "    n_iter=20, cv=3,\n",
    "    scoring='neg_mean_absolute_error',\n",
    "    random_state=42, n_jobs=-1\n",
    ")\n",
    "search.fit(X_train, y_train)\n",
    "print(\"Best α:\", search.best_params_)\n"
   ]
  },
  {
   "cell_type": "code",
   "execution_count": 4,
   "id": "24dcd0cf",
   "metadata": {},
   "outputs": [
    {
     "name": "stdout",
     "output_type": "stream",
     "text": [
      "MAE: 73845.25950691383\n",
      "RMSE: 99482.11200274542\n"
     ]
    }
   ],
   "source": [
    "\n",
    "# 3. Evaluate\n",
    "best = search.best_estimator_\n",
    "pred = best.predict(X_test)\n",
    "print(\"MAE:\",  mean_absolute_error(y_test, pred))\n",
    "print(\"RMSE:\", np.sqrt(mean_squared_error(y_test, pred)))\n"
   ]
  }
 ],
 "metadata": {
  "kernelspec": {
   "display_name": ".venv",
   "language": "python",
   "name": "python3"
  },
  "language_info": {
   "codemirror_mode": {
    "name": "ipython",
    "version": 3
   },
   "file_extension": ".py",
   "mimetype": "text/x-python",
   "name": "python",
   "nbconvert_exporter": "python",
   "pygments_lexer": "ipython3",
   "version": "3.12.4"
  }
 },
 "nbformat": 4,
 "nbformat_minor": 5
}
