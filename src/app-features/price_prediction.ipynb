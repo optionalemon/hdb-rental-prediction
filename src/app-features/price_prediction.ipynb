{
 "cells": [
  {
   "cell_type": "code",
   "execution_count": 1,
   "id": "55a2a88b",
   "metadata": {},
   "outputs": [],
   "source": [
    "import pandas as pd\n",
    "import numpy as np\n",
    "from xgboost import XGBRegressor\n",
    "from sklearn.model_selection import RandomizedSearchCV\n",
    "from sklearn.metrics import mean_absolute_error, mean_squared_error\n",
    "import matplotlib.pyplot as plt"
   ]
  },
  {
   "cell_type": "code",
   "execution_count": null,
   "id": "8c562b62",
   "metadata": {},
   "outputs": [],
   "source": [
    "def load_data(train_path: str, test_path: str):\n",
    "    \"\"\"\n",
    "    Load training and testing data from CSV files.\n",
    "    \"\"\"\n",
    "    train_data = pd.read_csv(train_path)\n",
    "    test_data = pd.read_csv(test_path)\n",
    "    return train_data, test_data\n",
    "\n",
    "def preprocess_data(train_data: pd.DataFrame, test_data: pd.DataFrame, one_hot_column: str = 'flat_model'):\n",
    "    \"\"\"\n",
    "    Perform one-hot encoding on the flat_model column and ensure train and test have the same set of columns.\n",
    "    \"\"\"\n",
    "    train_data = pd.get_dummies(train_data, columns=[one_hot_column], prefix='model')\n",
    "    test_data = pd.get_dummies(test_data, columns=[one_hot_column], prefix='model')\n",
    "    \n",
    "    # Ensure both train and test have the same one-hot encoded columns\n",
    "    train_columns = set(train_data.columns)\n",
    "    test_columns = set(test_data.columns)\n",
    "    for col in train_columns - test_columns:\n",
    "        if col.startswith('model_'):\n",
    "            test_data[col] = 0\n",
    "    extra_columns = [col for col in test_data.columns if col.startswith('model_') and col not in train_columns]\n",
    "    test_data.drop(columns=extra_columns, inplace=True)\n",
    "    \n",
    "    return train_data, test_data\n",
    "\n",
    "def define_features(train_data: pd.DataFrame, test_data: pd.DataFrame):\n",
    "    \"\"\"\n",
    "    Define feature columns and the target column based on the dataset.\n",
    "    Numeric features: time, storey_avg, floor_area_sqm, flat_type_encoded, remaining_lease_months.\n",
    "    All one-hot encoded columns from flat_model start with 'model_'.\n",
    "    \"\"\"\n",
    "    numeric_features = ['time', 'storey_avg', 'floor_area_sqm', 'flat_type_encoded', 'remaining_lease_months']\n",
    "    model_columns = [col for col in train_data.columns if col.startswith('model_')]\n",
    "    feature_columns = numeric_features + model_columns\n",
    "    target_column = 'resale_price'\n",
    "    \n",
    "    X_train = train_data[feature_columns]\n",
    "    y_train = train_data[target_column]\n",
    "    X_test = test_data[feature_columns]\n",
    "    y_test = test_data[target_column]\n",
    "    \n",
    "    return X_train, y_train, X_test, y_test, feature_columns"
   ]
  },
  {
   "cell_type": "code",
   "execution_count": null,
   "id": "7a412ae3",
   "metadata": {},
   "outputs": [],
   "source": [
    "def train_xgb_model(X_train: pd.DataFrame, y_train: pd.Series, cv: int = 3, n_iter: int = 20, random_state: int = 42):\n",
    "    \"\"\"\n",
    "    Train an XGBoost model\n",
    "    \"\"\"\n",
    "    param_distributions = {\n",
    "        'n_estimators': [50, 100, 150, 200],\n",
    "        'max_depth': [3, 4, 5, 6, 8],\n",
    "        'learning_rate': [0.01, 0.05, 0.1, 0.2],\n",
    "        'subsample': [0.6, 0.8, 1.0],\n",
    "        'colsample_bytree': [0.6, 0.8, 1.0]\n",
    "    }\n",
    "    \n",
    "    xgb_model = XGBRegressor(random_state=random_state, objective='reg:squarederror')\n",
    "    random_search = RandomizedSearchCV(\n",
    "        estimator=xgb_model,\n",
    "        param_distributions=param_distributions,\n",
    "        n_iter=n_iter,\n",
    "        scoring='neg_mean_absolute_error',\n",
    "        cv=cv,\n",
    "        verbose=1,\n",
    "        random_state=random_state,\n",
    "        n_jobs=-1\n",
    "    )\n",
    "    \n",
    "    random_search.fit(X_train, y_train)\n",
    "    \n",
    "    print(\"Best Parameters from RandomizedSearchCV:\")\n",
    "    print(random_search.best_params_)\n",
    "    \n",
    "    return random_search.best_estimator_, random_search"
   ]
  },
  {
   "cell_type": "code",
   "execution_count": 4,
   "id": "f1435790",
   "metadata": {},
   "outputs": [],
   "source": [
    "def predict_and_evaluate(model, X_test: pd.DataFrame, y_test: pd.Series):\n",
    "    \"\"\"\n",
    "    Make predictions using the trained model and evaluate performance.\n",
    "    \"\"\"\n",
    "    predictions = model.predict(X_test)\n",
    "    mae = mean_absolute_error(y_test, predictions)\n",
    "    rmse = np.sqrt(mean_squared_error(y_test, predictions))\n",
    "    print(\"\\nXGBoost Model Evaluation:\")\n",
    "    print(\"Mean Absolute Error (MAE):\", mae)\n",
    "    print(\"Root Mean Squared Error (RMSE):\", rmse)\n",
    "    return predictions, mae, rmse"
   ]
  },
  {
   "cell_type": "code",
   "execution_count": null,
   "id": "0b01e693",
   "metadata": {},
   "outputs": [],
   "source": [
    "def project_future_value(model, sample_row: pd.DataFrame, feature_columns: list, steps: int = 120, \n",
    "                           lease_decay_factor: float = 0.001, estate_upgrade_factor: float = 0.0005, \n",
    "                           ura_adjustment_factor: float = 0.0003):\n",
    "    \"\"\"\n",
    "    Projects the future resale price for a single data row for a number of months (default: 120 months).\n",
    "\n",
    "    For each month, the function:\n",
    "      - Increases 'time' by 1.\n",
    "      - Decreases 'remaining_lease_months' by 1 (not dropping below 0).\n",
    "      - Predicts the baseline resale price using the trained model.\n",
    "      - Applies an adjustment based on supplied factors:\n",
    "            lease_decay_factor (represents depreciation),\n",
    "            estate_upgrade_factor (represents improvements/upgrades), and\n",
    "            ura_adjustment_factor (captures master plan development effects).\n",
    "    \n",
    "    Parameters:\n",
    "      - model: Trained model for prediction.\n",
    "      - sample_row: A one-row DataFrame representing the initial flat data.\n",
    "      - feature_columns: List of features used by the model.\n",
    "      - steps: Number of months to project (default: 120).\n",
    "      - lease_decay_factor: Monthly depreciation factor.\n",
    "      - estate_upgrade_factor: Monthly appreciation factor from estate upgrades.\n",
    "      - ura_adjustment_factor: Monthly adjustment factor from URA master plan developments.\n",
    "    \n",
    "    Returns:\n",
    "      - future_prices: List of adjusted predicted prices for each future month.\n",
    "    \"\"\"\n",
    "    current_row = sample_row.copy().iloc[0]\n",
    "    future_prices = []\n",
    "    \n",
    "    for month in range(1, steps+1):\n",
    "        current_row['time'] += 1\n",
    "        current_row['remaining_lease_months'] = max(current_row['remaining_lease_months'] - 1, 0)\n",
    "        \n",
    "        current_features = pd.DataFrame([current_row[feature_columns]]\n",
    "        baseline_price = model.predict(current_features)[0]\n",
    "        \n",
    "        adjustment_rate = (estate_upgrade_factor + ura_adjustment_factor - lease_decay_factor)\n",
    "        adjusted_price = baseline_price * (1 + adjustment_rate * month)\n",
    "        \n",
    "        future_prices.append(adjusted_price)\n",
    "    \n",
    "    return future_prices"
   ]
  },
  {
   "cell_type": "code",
   "execution_count": 10,
   "id": "8ac32bcf",
   "metadata": {},
   "outputs": [],
   "source": [
    "def plot_future_trend(future_prices: list):\n",
    "    \"\"\"\n",
    "    Plot the future price trend over the projection period.\n",
    "    \"\"\"\n",
    "    months = list(range(1, len(future_prices) + 1))\n",
    "    plt.figure(figsize=(10, 6))\n",
    "    plt.plot(months, future_prices, marker='o', linestyle='-')\n",
    "    plt.title(\"10-Year Future Price Projection\")\n",
    "    plt.xlabel(\"Months from now\")\n",
    "    plt.ylabel(\"Projected Resale Price\")\n",
    "    plt.grid(True)\n",
    "    plt.show()"
   ]
  },
  {
   "cell_type": "code",
   "execution_count": 18,
   "id": "c4e70cb8",
   "metadata": {},
   "outputs": [
    {
     "name": "stdout",
     "output_type": "stream",
     "text": [
      "Fitting 3 folds for each of 20 candidates, totalling 60 fits\n",
      "Best Parameters from RandomizedSearchCV:\n",
      "{'subsample': 0.8, 'n_estimators': 200, 'max_depth': 6, 'learning_rate': 0.2, 'colsample_bytree': 1.0}\n",
      "\n",
      "XGBoost Model Evaluation:\n",
      "Mean Absolute Error (MAE): 53670.33516329242\n",
      "Root Mean Squared Error (RMSE): 77600.80163564642\n"
     ]
    }
   ],
   "source": [
    "\n",
    "train_data = pd.read_csv('../../data/processed/train.csv')\n",
    "test_data = pd.read_csv('../../data/processed/test.csv')\n",
    "    \n",
    "train_data, test_data = preprocess_data(train_data, test_data, one_hot_column='flat_model')\n",
    "X_train, y_train, X_test, y_test, feature_columns = define_features(train_data, test_data)\n",
    "    \n",
    "model, random_search = train_xgb_model(X_train, y_train)\n",
    "    \n",
    "predictions, mae, rmse = predict_and_evaluate(model, X_test, y_test)\n"
   ]
  },
  {
   "cell_type": "code",
   "execution_count": null,
   "id": "2c651190",
   "metadata": {},
   "outputs": [
    {
     "data": {
      "image/png": "[encoded data removed]",
      "text/plain": [
       "<Figure size 1000x600 with 1 Axes>"
      ]
     },
     "metadata": {},
     "output_type": "display_data"
    }
   ],
   "source": [
    "sample_data = {\n",
    "        'time': [1],\n",
    "        'storey_avg': [5],\n",
    "        'floor_area_sqm': [100.0],\n",
    "        'flat_type_encoded': [4],\n",
    "        'remaining_lease_months': [966]\n",
    "}\n",
    "\n",
    "for col in feature_columns:\n",
    "    if col.startswith('model_'):\n",
    "        sample_data[col] = [1 if col == 'model_Model A' else 0]\n",
    "    \n",
    "sample_row = pd.DataFrame(sample_data)\n",
    "    \n",
    "# Project future prices over 120 months.\n",
    "future_prices = project_future_value(model, sample_row, feature_columns, steps=120, \n",
    "                                        lease_decay_factor=0.001, \n",
    "                                        estate_upgrade_factor=0.0005, \n",
    "                                        ura_adjustment_factor=0.0003)\n",
    "    \n",
    "plot_future_trend(future_prices)\n"
   ]
  },
  {
   "cell_type": "code",
   "execution_count": null,
   "id": "b5e7d41f",
   "metadata": {},
   "outputs": [],
   "source": []
  }
 ],
 "metadata": {
  "kernelspec": {
   "display_name": ".venv",
   "language": "python",
   "name": "python3"
  },
  "language_info": {
   "codemirror_mode": {
    "name": "ipython",
    "version": 3
   },
   "file_extension": ".py",
   "mimetype": "text/x-python",
   "name": "python",
   "nbconvert_exporter": "python",
   "pygments_lexer": "ipython3",
   "version": "3.12.4"
  }
 },
 "nbformat": 4,
 "nbformat_minor": 5
}
