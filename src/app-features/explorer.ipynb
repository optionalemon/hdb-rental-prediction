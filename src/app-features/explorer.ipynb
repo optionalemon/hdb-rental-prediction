{
 "cells": [
  {
   "cell_type": "code",
   "execution_count": 1,
   "id": "87e6df37",
   "metadata": {},
   "outputs": [],
   "source": [
    "import pandas as pd\n",
    "import numpy as np\n",
    "import folium\n",
    "from geopy.distance import geodesic\n",
    "import joblib  # to load the trained price model\n"
   ]
  },
  {
   "cell_type": "markdown",
   "id": "8cc8b4ea",
   "metadata": {},
   "source": [
    "## 1. Data Input"
   ]
  },
  {
   "cell_type": "code",
   "execution_count": 2,
   "id": "0f99425f",
   "metadata": {},
   "outputs": [],
   "source": [
    "df = pd.read_csv(\"../../data/processed/cleaned_resale_data.csv\")\n",
    "\n",
    "# Using simulated data for demonstration purposes first\n",
    "df[\"predicted_price\"] = df[\"resale_price\"] * np.random.uniform(0.95, 1.05, len(df))  # Simulated\n"
   ]
  },
  {
   "cell_type": "markdown",
   "id": "ac7a2dd6",
   "metadata": {},
   "source": [
    "## 2. Budget Input"
   ]
  },
  {
   "cell_type": "code",
   "execution_count": 5,
   "id": "95e936b3",
   "metadata": {},
   "outputs": [],
   "source": [
    "budget_temp = 500000"
   ]
  },
  {
   "cell_type": "markdown",
   "id": "e0f1b4bf",
   "metadata": {},
   "source": [
    "## 3. Filter Affordable choices"
   ]
  },
  {
   "cell_type": "code",
   "execution_count": 6,
   "id": "af2c9beb",
   "metadata": {},
   "outputs": [
    {
     "name": "stdout",
     "output_type": "stream",
     "text": [
      "✅ Found 110253 flats under budget $500,000\n"
     ]
    },
    {
     "data": {
      "text/html": [
       "<div>\n",
       "<style scoped>\n",
       "    .dataframe tbody tr th:only-of-type {\n",
       "        vertical-align: middle;\n",
       "    }\n",
       "\n",
       "    .dataframe tbody tr th {\n",
       "        vertical-align: top;\n",
       "    }\n",
       "\n",
       "    .dataframe thead th {\n",
       "        text-align: right;\n",
       "    }\n",
       "</style>\n",
       "<table border=\"1\" class=\"dataframe\">\n",
       "  <thead>\n",
       "    <tr style=\"text-align: right;\">\n",
       "      <th></th>\n",
       "      <th>time</th>\n",
       "      <th>address</th>\n",
       "      <th>storey_avg</th>\n",
       "      <th>floor_area_sqm</th>\n",
       "      <th>flat_type_encoded</th>\n",
       "      <th>flat_model</th>\n",
       "      <th>remaining_lease_months</th>\n",
       "      <th>resale_price</th>\n",
       "      <th>predicted_price</th>\n",
       "    </tr>\n",
       "  </thead>\n",
       "  <tbody>\n",
       "    <tr>\n",
       "      <th>0</th>\n",
       "      <td>0</td>\n",
       "      <td>406 ANG MO KIO AVE 10</td>\n",
       "      <td>11</td>\n",
       "      <td>44.0</td>\n",
       "      <td>2</td>\n",
       "      <td>Improved</td>\n",
       "      <td>736</td>\n",
       "      <td>232000.0</td>\n",
       "      <td>240697.008264</td>\n",
       "    </tr>\n",
       "    <tr>\n",
       "      <th>1</th>\n",
       "      <td>0</td>\n",
       "      <td>108 ANG MO KIO AVE 4</td>\n",
       "      <td>2</td>\n",
       "      <td>67.0</td>\n",
       "      <td>3</td>\n",
       "      <td>New Generation</td>\n",
       "      <td>727</td>\n",
       "      <td>250000.0</td>\n",
       "      <td>254929.095825</td>\n",
       "    </tr>\n",
       "    <tr>\n",
       "      <th>2</th>\n",
       "      <td>0</td>\n",
       "      <td>602 ANG MO KIO AVE 5</td>\n",
       "      <td>2</td>\n",
       "      <td>67.0</td>\n",
       "      <td>3</td>\n",
       "      <td>New Generation</td>\n",
       "      <td>749</td>\n",
       "      <td>262000.0</td>\n",
       "      <td>273713.770015</td>\n",
       "    </tr>\n",
       "    <tr>\n",
       "      <th>3</th>\n",
       "      <td>0</td>\n",
       "      <td>465 ANG MO KIO AVE 10</td>\n",
       "      <td>5</td>\n",
       "      <td>68.0</td>\n",
       "      <td>3</td>\n",
       "      <td>New Generation</td>\n",
       "      <td>745</td>\n",
       "      <td>265000.0</td>\n",
       "      <td>265822.839231</td>\n",
       "    </tr>\n",
       "    <tr>\n",
       "      <th>4</th>\n",
       "      <td>0</td>\n",
       "      <td>601 ANG MO KIO AVE 5</td>\n",
       "      <td>2</td>\n",
       "      <td>67.0</td>\n",
       "      <td>3</td>\n",
       "      <td>New Generation</td>\n",
       "      <td>749</td>\n",
       "      <td>265000.0</td>\n",
       "      <td>270031.498187</td>\n",
       "    </tr>\n",
       "  </tbody>\n",
       "</table>\n",
       "</div>"
      ],
      "text/plain": [
       "   time                address  storey_avg  floor_area_sqm  flat_type_encoded  \\\n",
       "0     0  406 ANG MO KIO AVE 10          11            44.0                  2   \n",
       "1     0   108 ANG MO KIO AVE 4           2            67.0                  3   \n",
       "2     0   602 ANG MO KIO AVE 5           2            67.0                  3   \n",
       "3     0  465 ANG MO KIO AVE 10           5            68.0                  3   \n",
       "4     0   601 ANG MO KIO AVE 5           2            67.0                  3   \n",
       "\n",
       "       flat_model  remaining_lease_months  resale_price  predicted_price  \n",
       "0        Improved                     736      232000.0    240697.008264  \n",
       "1  New Generation                     727      250000.0    254929.095825  \n",
       "2  New Generation                     749      262000.0    273713.770015  \n",
       "3  New Generation                     745      265000.0    265822.839231  \n",
       "4  New Generation                     749      265000.0    270031.498187  "
      ]
     },
     "execution_count": 6,
     "metadata": {},
     "output_type": "execute_result"
    }
   ],
   "source": [
    "def get_affordable_flats(predicted_price, resale_df, top_n=50):\n",
    "    \"\"\"\n",
    "    Filters and returns flats within the user's predicted price range.\n",
    "    \"\"\"\n",
    "    affordable = resale_df[resale_df[\"predicted_price\"] <= predicted_price].copy()\n",
    "    print(f\"✅ Found {len(affordable)} flats under budget ${predicted_price:,.0f}\")\n",
    "    return affordable.head(top_n)\n",
    "\n",
    "affordable_flats = get_affordable_flats(budget_temp, df)\n",
    "affordable_flats.head()\n"
   ]
  },
  {
   "cell_type": "markdown",
   "id": "9c2fd6d9",
   "metadata": {},
   "source": [
    "## Getting coordinates"
   ]
  },
  {
   "cell_type": "code",
   "execution_count": null,
   "id": "2eddc1b2",
   "metadata": {},
   "outputs": [
    {
     "ename": "NameError",
     "evalue": "name 'df' is not defined",
     "output_type": "error",
     "traceback": [
      "\u001b[1;31m---------------------------------------------------------------------------\u001b[0m",
      "\u001b[1;31mNameError\u001b[0m                                 Traceback (most recent call last)",
      "Cell \u001b[1;32mIn[1], line 1\u001b[0m\n\u001b[1;32m----> 1\u001b[0m df[\u001b[38;5;124m\"\u001b[39m\u001b[38;5;124mstreet\u001b[39m\u001b[38;5;124m\"\u001b[39m] \u001b[38;5;241m=\u001b[39m df[\u001b[38;5;124m\"\u001b[39m\u001b[38;5;124maddress\u001b[39m\u001b[38;5;124m\"\u001b[39m]\u001b[38;5;241m.\u001b[39mstr\u001b[38;5;241m.\u001b[39mreplace(\u001b[38;5;124mr\u001b[39m\u001b[38;5;124m\"\u001b[39m\u001b[38;5;124m^\u001b[39m\u001b[38;5;124m\\\u001b[39m\u001b[38;5;124md+\u001b[39m\u001b[38;5;124m\\\u001b[39m\u001b[38;5;124ms+\u001b[39m\u001b[38;5;124m\"\u001b[39m, \u001b[38;5;124m\"\u001b[39m\u001b[38;5;124m\"\u001b[39m, regex\u001b[38;5;241m=\u001b[39m\u001b[38;5;28;01mTrue\u001b[39;00m)\n\u001b[0;32m      2\u001b[0m unique_addresses \u001b[38;5;241m=\u001b[39m df[\u001b[38;5;124m\"\u001b[39m\u001b[38;5;124mstreet\u001b[39m\u001b[38;5;124m\"\u001b[39m]\u001b[38;5;241m.\u001b[39mdrop_duplicates()\u001b[38;5;241m.\u001b[39mtolist()\n\u001b[0;32m      3\u001b[0m \u001b[38;5;28mprint\u001b[39m(\u001b[38;5;124mf\u001b[39m\u001b[38;5;124m\"\u001b[39m\u001b[38;5;124mUnique addresses: \u001b[39m\u001b[38;5;132;01m{\u001b[39;00m\u001b[38;5;28mlen\u001b[39m(unique_addresses)\u001b[38;5;132;01m}\u001b[39;00m\u001b[38;5;124m\"\u001b[39m)\n",
      "\u001b[1;31mNameError\u001b[0m: name 'df' is not defined"
     ]
    }
   ],
   "source": [
    "# Using Simulated Data for Housing Locations, MRT and Schools\n",
    "# The OneMap API is too slow in this environment, so we will simulate the data instead.\n",
    "SG_LAT_MIN, SG_LAT_MAX = 1.22, 1.47\n",
    "SG_LNG_MIN, SG_LNG_MAX = 103.6, 104.0\n",
    "\n",
    "np.random.seed(42)\n",
    "affordable_flats[\"lat\"] = np.random.uniform(SG_LAT_MIN, SG_LAT_MAX, len(affordable_flats))\n",
    "affordable_flats[\"lng\"] = np.random.uniform(SG_LNG_MIN, SG_LNG_MAX, len(affordable_flats))\n",
    "\n",
    "mrt_df = pd.DataFrame({\n",
    "    \"station\": [f\"MRT_{i}\" for i in range(30)],\n",
    "    \"lat\": np.random.uniform(SG_LAT_MIN, SG_LAT_MAX, 30),\n",
    "    \"lng\": np.random.uniform(SG_LNG_MIN, SG_LNG_MAX, 30)\n",
    "})\n",
    "\n",
    "\n",
    "schools_df = pd.DataFrame({\n",
    "    \"school\": [f\"School_{i}\" for i in range(50)],\n",
    "    \"lat\": np.random.uniform(SG_LAT_MIN, SG_LAT_MAX, 50),\n",
    "    \"lng\": np.random.uniform(SG_LNG_MIN, SG_LNG_MAX, 50)\n",
    "})\n",
    "\n",
    "amenities_df = pd.DataFrame({\n",
    "    \"amenity\": [f\"Amenity_{i}\" for i in range(20)],\n",
    "    \"lat\": np.random.uniform(SG_LAT_MIN, SG_LAT_MAX, 20),\n",
    "    \"lng\": np.random.uniform(SG_LNG_MIN, SG_LNG_MAX, 20)\n",
    "})\n",
    "\n",
    "\n",
    "\n"
   ]
  },
  {
   "cell_type": "markdown",
   "id": "f670a2bb",
   "metadata": {},
   "source": [
    "## Add Scoring Function"
   ]
  },
  {
   "cell_type": "code",
   "execution_count": null,
   "id": "b904333b",
   "metadata": {},
   "outputs": [],
   "source": [
    "from geopy.distance import geodesic\n",
    "\n",
    "def score_location(lat, lng, mrt_df, schools_df, amenities_df):\n",
    "    def count_within(df, radius_km):\n",
    "        return df.apply(lambda row: geodesic((lat, lng), (row[\"lat\"], row[\"lng\"])).km <= radius_km, axis=1).sum()\n",
    "\n",
    "    score = 0\n",
    "    score += min(count_within(mrt_df, 0.8), 3) * 2        # MRT: up to 6 pts\n",
    "    score += min(count_within(schools_df, 1.0), 3) * 1.5  # Schools: up to 4.5 pts\n",
    "    score += min(count_within(amenities_df, 1.0), 2) * 1  # Amenities: up to 2 pts\n",
    "    \n",
    "    return round(min(score, 10), 2)"
   ]
  },
  {
   "cell_type": "markdown",
   "id": "a5eff65b",
   "metadata": {},
   "source": [
    "affordable_flats[\"score\"] = affordable_flats.apply(\n",
    "    lambda row: score_location(row[\"lat\"], row[\"lng\"], mrt_df, schools_df, amenities_df), axis=1\n",
    ")\n",
    "\n",
    "top_flats = affordable_flats.sort_values(by=\"score\", ascending=False).head(20)\n",
    "top_flats[[\"address\", \"predicted_price\", \"score\", \"lat\", \"lng\"]]\n"
   ]
  },
  {
   "cell_type": "code",
   "execution_count": 20,
   "id": "fc9d2238",
   "metadata": {},
   "outputs": [],
   "source": [
    "import requests\n",
    "import time\n",
    "import pandas as pd\n",
    "\n",
    "def get_coordinates(address):\n",
    "    \"\"\"Fetch coordinates (lat, lng) for a given address using OneMap API.\"\"\"\n",
    "    url = \"https://www.onemap.gov.sg/api/common/elastic/search\"\n",
    "    params = {\n",
    "        \"searchVal\": address,\n",
    "        \"returnGeom\": \"Y\",\n",
    "        \"getAddrDetails\": \"Y\",\n",
    "        \"pageNum\": 1\n",
    "    }\n",
    "    try:\n",
    "        response = requests.get(url, params=params, timeout=5)\n",
    "        results = response.json().get(\"results\", [])\n",
    "        if results:\n",
    "            lat = float(results[0][\"LATITUDE\"])\n",
    "            lng = float(results[0][\"LONGITUDE\"])\n",
    "            return lat, lng\n",
    "    except Exception as e:\n",
    "        print(f\"❌ Error fetching {address}: {e}\")\n",
    "    return None, None\n"
   ]
  }
 ],
 "metadata": {
  "kernelspec": {
   "display_name": "ML",
   "language": "python",
   "name": "python3"
  },
  "language_info": {
   "codemirror_mode": {
    "name": "ipython",
    "version": 3
   },
   "file_extension": ".py",
   "mimetype": "text/x-python",
   "name": "python",
   "nbconvert_exporter": "python",
   "pygments_lexer": "ipython3",
   "version": "3.12.3"
  }
 },
 "nbformat": 4,
 "nbformat_minor": 5
}
